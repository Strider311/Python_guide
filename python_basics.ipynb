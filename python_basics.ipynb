{
 "cells": [
  {
   "cell_type": "markdown",
   "id": "81bce22a",
   "metadata": {},
   "source": [
    "\n",
    "\n",
    "<H1 align=\"center\">\n",
    "    Python For Engineers - Tutorial 1\n",
    "</H1>\n",
    "\n",
    "<H1 align=\"center\">\n",
    "    By Fardin Ahsan\n",
    "</H1>\n",
    "\n",
    "___________________________________\n",
    "\n",
    "# Introduction to python\n",
    "\n",
    "Note: This tutorial is not even the tip of the iceberg. For a real comprehensive tutorial visit the official python tutorial.\n",
    "https://docs.python.org/3/tutorial/index.html"
   ]
  },
  {
   "cell_type": "markdown",
   "id": "8b930fc4",
   "metadata": {},
   "source": [
    "<img src='flowchart.jpeg'>"
   ]
  },
  {
   "cell_type": "markdown",
   "id": "b6672eb7",
   "metadata": {},
   "source": [
    "## Comments"
   ]
  },
  {
   "cell_type": "code",
   "execution_count": 1,
   "id": "0128ceda",
   "metadata": {},
   "outputs": [
    {
     "name": "stdout",
     "output_type": "stream",
     "text": [
      "HelLo WoRlD\n"
     ]
    }
   ],
   "source": [
    "\"\"\"\n",
    "This is a multi line comment.\n",
    "It can be as many lines as you want.\n",
    "\n",
    "But please don't do this...\n",
    "\n",
    "We 👥 hold 👫 these 👂 truths 😤 to be 🐝 self-evident,\n",
    "⭐💯 that 😐😐 all 😲 men 👨 are created 🔨🎨 equal,\n",
    "that 🤔🚟 they 💁 are endowed by 😈👨 their 🍮 Creator with certain 🤔🤔 unalienable Rights,\n",
    "👌 that 🤬🤬🥴 among 🇷🇴 these 😤 are Life, 📅 Liberty 🗽 and the pursuit of Happiness.\n",
    "😒😪 --That 🤞 to secure 🔐 these 👀 rights, 👌 Governments 💩 are instituted among 💰 Men,\n",
    "⚰️ deriving their 🤣🤣🤣🤣 just 😩🙈 powers 🔌 from 👉🙃 the consent 🤫😉 of the governed,\n",
    "--That 💝 whenever any 🚧 Form 📋 of Government 💩 becomes destructive of these 🙄 ends,\n",
    "🔚 it is the Right ☝🏽 of the People 👨 to alter or to abolish it, and to institute new 💎👑 Government,\n",
    "💩 laying its foundation 🤓🔍🤯 on 👍😳 such 📶 principles 👑 and organizing its powers 🔌 in 👈 such 😆 form,\n",
    "📋 as to them 💅 shall seem 👀 most 🦊👥 likely 💟 to effect 📣📣 their 💴 Safety 🔒 and Happiness. 😒😪\n",
    "\n",
    "\"\"\"\n",
    "\n",
    "# This is a single line comment.\n",
    "\n",
    "\n",
    "print('HelLo WoRlD') # This is an inline comment holding on to programming tradition"
   ]
  },
  {
   "cell_type": "markdown",
   "id": "13246a13",
   "metadata": {},
   "source": [
    "### Yes you can use emojis in your code too.."
   ]
  },
  {
   "cell_type": "code",
   "execution_count": 2,
   "id": "058435a3",
   "metadata": {},
   "outputs": [
    {
     "name": "stdout",
     "output_type": "stream",
     "text": [
      "🔥🔥🔥🔥🔥🔥🔥🔥🔥🔥\n",
      "💯💯💯💯💯💯💯💯💯💯\n",
      "🔥🔥🔥🔥🔥🔥🔥🔥🔥🔥\n",
      "💯💯💯💯💯💯💯💯💯💯\n",
      "🔥🔥🔥🔥🔥🔥🔥🔥🔥🔥\n",
      "💯💯💯💯💯💯💯💯💯💯\n",
      "🔥🔥🔥🔥🔥🔥🔥🔥🔥🔥\n",
      "💯💯💯💯💯💯💯💯💯💯\n",
      "🔥🔥🔥🔥🔥🔥🔥🔥🔥🔥\n",
      "💯💯💯💯💯💯💯💯💯💯\n",
      "🥵🥵🥵🥵🥵🥵🥵🥵🥵🥵\n"
     ]
    }
   ],
   "source": [
    "# How to get fired 101\n",
    "for lit in '🔥💯'*5:\n",
    "    print(lit*10)\n",
    "else:\n",
    "    print('🥵'*10)"
   ]
  },
  {
   "cell_type": "markdown",
   "id": "ac12e462",
   "metadata": {},
   "source": [
    "# Numbers"
   ]
  },
  {
   "cell_type": "markdown",
   "id": "9df953ba",
   "metadata": {},
   "source": [
    "## Integers"
   ]
  },
  {
   "cell_type": "code",
   "execution_count": 3,
   "id": "c2f56df3",
   "metadata": {},
   "outputs": [],
   "source": [
    "# declaring some integers\n",
    "int_a = 1\n",
    "int_b = 2\n",
    "int_c = 3"
   ]
  },
  {
   "cell_type": "code",
   "execution_count": 4,
   "id": "98525879",
   "metadata": {},
   "outputs": [
    {
     "data": {
      "text/plain": [
       "-1"
      ]
     },
     "execution_count": 4,
     "metadata": {},
     "output_type": "execute_result"
    }
   ],
   "source": [
    "# Addition\n",
    "int_a + int_b - 4"
   ]
  },
  {
   "cell_type": "code",
   "execution_count": 5,
   "id": "0b44a0d0",
   "metadata": {},
   "outputs": [
    {
     "data": {
      "text/plain": [
       "2"
      ]
     },
     "execution_count": 5,
     "metadata": {},
     "output_type": "execute_result"
    }
   ],
   "source": [
    "# Multiplication\n",
    "int_a * int_b"
   ]
  },
  {
   "cell_type": "code",
   "execution_count": 6,
   "id": "b233c908",
   "metadata": {},
   "outputs": [
    {
     "data": {
      "text/plain": [
       "8"
      ]
     },
     "execution_count": 6,
     "metadata": {},
     "output_type": "execute_result"
    }
   ],
   "source": [
    "# Exponentiation \n",
    "int_b ** int_c"
   ]
  },
  {
   "cell_type": "code",
   "execution_count": 7,
   "id": "1a7a3b44",
   "metadata": {},
   "outputs": [
    {
     "data": {
      "text/plain": [
       "0.5"
      ]
     },
     "execution_count": 7,
     "metadata": {},
     "output_type": "execute_result"
    }
   ],
   "source": [
    "# Division\n",
    "int_a / int_b"
   ]
  },
  {
   "cell_type": "code",
   "execution_count": 8,
   "id": "e1ed70c3",
   "metadata": {},
   "outputs": [
    {
     "data": {
      "text/plain": [
       "1"
      ]
     },
     "execution_count": 8,
     "metadata": {},
     "output_type": "execute_result"
    }
   ],
   "source": [
    "'''\n",
    "Floor division, divides then rounds down to an integer,\n",
    "This is similar to division in the C language\n",
    "\n",
    "'''\n",
    "int_c // int_b"
   ]
  },
  {
   "cell_type": "code",
   "execution_count": 9,
   "id": "9dcfe6c5",
   "metadata": {},
   "outputs": [
    {
     "data": {
      "text/plain": [
       "1"
      ]
     },
     "execution_count": 9,
     "metadata": {},
     "output_type": "execute_result"
    }
   ],
   "source": [
    "#The modulus operator gives the remainder\n",
    "\n",
    "int_c % int_b"
   ]
  },
  {
   "cell_type": "markdown",
   "id": "4a88f125",
   "metadata": {},
   "source": [
    "## Complex"
   ]
  },
  {
   "cell_type": "code",
   "execution_count": 10,
   "id": "31f5bd0e",
   "metadata": {},
   "outputs": [],
   "source": [
    "cmplx_a = 1 + 2j\n",
    "cmplx_b = 2 + 3j"
   ]
  },
  {
   "cell_type": "code",
   "execution_count": 11,
   "id": "f5c90009",
   "metadata": {},
   "outputs": [
    {
     "data": {
      "text/plain": [
       "(3+5j)"
      ]
     },
     "execution_count": 11,
     "metadata": {},
     "output_type": "execute_result"
    }
   ],
   "source": [
    "# Addition\n",
    "cmplx_a + cmplx_b"
   ]
  },
  {
   "cell_type": "code",
   "execution_count": 12,
   "id": "dd1d5cf4",
   "metadata": {},
   "outputs": [
    {
     "data": {
      "text/plain": [
       "2.23606797749979"
      ]
     },
     "execution_count": 12,
     "metadata": {},
     "output_type": "execute_result"
    }
   ],
   "source": [
    "# Magnitude\n",
    "abs(cmplx_a)"
   ]
  },
  {
   "cell_type": "markdown",
   "id": "fea5e63a",
   "metadata": {},
   "source": [
    "## Float"
   ]
  },
  {
   "cell_type": "code",
   "execution_count": 13,
   "id": "ea705284",
   "metadata": {},
   "outputs": [],
   "source": [
    "float_a = 0.5\n",
    "float_b = 1.5"
   ]
  },
  {
   "cell_type": "code",
   "execution_count": 14,
   "id": "e4f371ec",
   "metadata": {},
   "outputs": [
    {
     "data": {
      "text/plain": [
       "3.0"
      ]
     },
     "execution_count": 14,
     "metadata": {},
     "output_type": "execute_result"
    }
   ],
   "source": [
    "float_b / float_a"
   ]
  },
  {
   "cell_type": "markdown",
   "id": "03530caa",
   "metadata": {},
   "source": [
    "## Bonus: Binary number operators"
   ]
  },
  {
   "cell_type": "markdown",
   "id": "f1948355",
   "metadata": {},
   "source": [
    "Binary numbers are integers and you won't be programming low level hardware on python (unless you hate life and what it has to offer) but some operators do exist for bitwise manipulation, FYI."
   ]
  },
  {
   "cell_type": "code",
   "execution_count": 15,
   "id": "78c23c3a",
   "metadata": {},
   "outputs": [],
   "source": [
    "# Some binary numbers\n",
    "\n",
    "bin_a = 0b1010 # 10 in decimal\n",
    "bin_b = 0b0101 # 5"
   ]
  },
  {
   "cell_type": "code",
   "execution_count": 16,
   "id": "5a0be752",
   "metadata": {},
   "outputs": [
    {
     "data": {
      "text/plain": [
       "0"
      ]
     },
     "execution_count": 16,
     "metadata": {},
     "output_type": "execute_result"
    }
   ],
   "source": [
    "#Bitwise AND\n",
    "bin_a & bin_b"
   ]
  },
  {
   "cell_type": "code",
   "execution_count": 17,
   "id": "c46615fc",
   "metadata": {},
   "outputs": [
    {
     "data": {
      "text/plain": [
       "15"
      ]
     },
     "execution_count": 17,
     "metadata": {},
     "output_type": "execute_result"
    }
   ],
   "source": [
    "#Bitwise OR\n",
    "bin_a | bin_b"
   ]
  },
  {
   "cell_type": "code",
   "execution_count": 18,
   "id": "77d95206",
   "metadata": {},
   "outputs": [
    {
     "data": {
      "text/plain": [
       "15"
      ]
     },
     "execution_count": 18,
     "metadata": {},
     "output_type": "execute_result"
    }
   ],
   "source": [
    "#Bitwise XOR\n",
    "bin_a ^ bin_b"
   ]
  },
  {
   "cell_type": "code",
   "execution_count": 19,
   "id": "c0382086",
   "metadata": {},
   "outputs": [
    {
     "data": {
      "text/plain": [
       "5"
      ]
     },
     "execution_count": 19,
     "metadata": {},
     "output_type": "execute_result"
    }
   ],
   "source": [
    "#Right shift\n",
    "bin_a >> 1"
   ]
  },
  {
   "cell_type": "code",
   "execution_count": 20,
   "id": "eecf553e",
   "metadata": {},
   "outputs": [
    {
     "data": {
      "text/plain": [
       "20"
      ]
     },
     "execution_count": 20,
     "metadata": {},
     "output_type": "execute_result"
    }
   ],
   "source": [
    "#Left shift\n",
    "bin_a << 1"
   ]
  },
  {
   "cell_type": "code",
   "execution_count": 21,
   "id": "dfbec31f",
   "metadata": {},
   "outputs": [
    {
     "data": {
      "text/plain": [
       "-11"
      ]
     },
     "execution_count": 21,
     "metadata": {},
     "output_type": "execute_result"
    }
   ],
   "source": [
    "#Ones complement \n",
    "~bin_a "
   ]
  },
  {
   "cell_type": "markdown",
   "id": "849282f4",
   "metadata": {},
   "source": [
    "________________________________"
   ]
  },
  {
   "cell_type": "markdown",
   "id": "c33b7815",
   "metadata": {},
   "source": [
    "# Booleans"
   ]
  },
  {
   "cell_type": "markdown",
   "id": "9b3262e9",
   "metadata": {},
   "source": [
    "#### Booleans are conditional/LOGICAL values, The and,or and XOR here are NOT the same thing as the bitwise operators! They are kind of the same but they are not (reasons too complicated for tutorial 1), 99% of the time you will be using these conditionals not the bitwise operators. "
   ]
  },
  {
   "cell_type": "code",
   "execution_count": 22,
   "id": "08452489",
   "metadata": {},
   "outputs": [],
   "source": [
    "bool_a = True\n",
    "bool_b = False\n",
    "bool_c = 1"
   ]
  },
  {
   "cell_type": "code",
   "execution_count": 23,
   "id": "d13b4e2c",
   "metadata": {},
   "outputs": [
    {
     "data": {
      "text/plain": [
       "False"
      ]
     },
     "execution_count": 23,
     "metadata": {},
     "output_type": "execute_result"
    }
   ],
   "source": [
    "# logical negation\n",
    "not bool_a"
   ]
  },
  {
   "cell_type": "code",
   "execution_count": 24,
   "id": "dc880392",
   "metadata": {},
   "outputs": [
    {
     "data": {
      "text/plain": [
       "False"
      ]
     },
     "execution_count": 24,
     "metadata": {},
     "output_type": "execute_result"
    }
   ],
   "source": [
    "# Logical AND\n",
    "bool_a and bool_b"
   ]
  },
  {
   "cell_type": "code",
   "execution_count": 25,
   "id": "11389e35",
   "metadata": {},
   "outputs": [
    {
     "data": {
      "text/plain": [
       "True"
      ]
     },
     "execution_count": 25,
     "metadata": {},
     "output_type": "execute_result"
    }
   ],
   "source": [
    "# Logical OR\n",
    "bool_a or bool_b"
   ]
  },
  {
   "cell_type": "code",
   "execution_count": 26,
   "id": "2dd40830",
   "metadata": {},
   "outputs": [
    {
     "data": {
      "text/plain": [
       "True"
      ]
     },
     "execution_count": 26,
     "metadata": {},
     "output_type": "execute_result"
    }
   ],
   "source": [
    "# Logical XOR\n",
    "bool_a ^ bool_b"
   ]
  },
  {
   "cell_type": "code",
   "execution_count": 27,
   "id": "191c7325",
   "metadata": {},
   "outputs": [
    {
     "data": {
      "text/plain": [
       "False"
      ]
     },
     "execution_count": 27,
     "metadata": {},
     "output_type": "execute_result"
    }
   ],
   "source": [
    "# 0's and 1's work in the place of True and False too\n",
    "not bool_c"
   ]
  },
  {
   "cell_type": "markdown",
   "id": "afcf3672",
   "metadata": {},
   "source": [
    "______________________________________________________"
   ]
  },
  {
   "cell_type": "markdown",
   "id": "d40271a6",
   "metadata": {},
   "source": [
    "# Strings"
   ]
  },
  {
   "cell_type": "code",
   "execution_count": 28,
   "id": "65af6579",
   "metadata": {},
   "outputs": [],
   "source": [
    "string_a = \"Bruh\"\n",
    "string_b = \"Moment\""
   ]
  },
  {
   "cell_type": "code",
   "execution_count": 29,
   "id": "da04e7e7",
   "metadata": {},
   "outputs": [
    {
     "data": {
      "text/plain": [
       "'BruhMoment'"
      ]
     },
     "execution_count": 29,
     "metadata": {},
     "output_type": "execute_result"
    }
   ],
   "source": [
    "# concatenation\n",
    "string_a + string_b"
   ]
  },
  {
   "cell_type": "code",
   "execution_count": 30,
   "id": "afa3d695",
   "metadata": {},
   "outputs": [
    {
     "data": {
      "text/plain": [
       "'Bruh Moment'"
      ]
     },
     "execution_count": 30,
     "metadata": {},
     "output_type": "execute_result"
    }
   ],
   "source": [
    "# Better concatenation\n",
    "string_a + ' ' + string_b"
   ]
  },
  {
   "cell_type": "code",
   "execution_count": 31,
   "id": "7401abe4",
   "metadata": {},
   "outputs": [
    {
     "data": {
      "text/plain": [
       "'Bru'"
      ]
     },
     "execution_count": 31,
     "metadata": {},
     "output_type": "execute_result"
    }
   ],
   "source": [
    "# Slicing \n",
    "string_a[0:3]"
   ]
  },
  {
   "cell_type": "code",
   "execution_count": 32,
   "id": "84662802",
   "metadata": {},
   "outputs": [
    {
     "name": "stdout",
     "output_type": "stream",
     "text": [
      "B\n",
      "r\n",
      "u\n",
      "h\n"
     ]
    }
   ],
   "source": [
    "# Iterating\n",
    "for letter in string_a:\n",
    "    print(letter)"
   ]
  },
  {
   "cell_type": "code",
   "execution_count": 33,
   "id": "45ed87f2",
   "metadata": {},
   "outputs": [
    {
     "data": {
      "text/plain": [
       "'BRUH'"
      ]
     },
     "execution_count": 33,
     "metadata": {},
     "output_type": "execute_result"
    }
   ],
   "source": [
    "# String methods\n",
    "# Note there are way too many I am going to show only one!\n",
    "\n",
    "string_a.upper()"
   ]
  },
  {
   "cell_type": "code",
   "execution_count": 34,
   "id": "a91b6feb",
   "metadata": {},
   "outputs": [
    {
     "name": "stdout",
     "output_type": "stream",
     "text": [
      "The sum of 1 and 2 is 3.\n",
      "The sum of 1 and 2 is 3.\n"
     ]
    }
   ],
   "source": [
    "'''\n",
    "String concateration and slicing is amateurish and non pythonic.\n",
    "\n",
    "In python development it is reccomended to use use f strings.\n",
    "\n",
    "Because it looks so much better!\n",
    "\n",
    "And as we know from before, in python sometimes better looking is actually better.\n",
    "\n",
    "'''\n",
    "# Peasant Tier\n",
    "print('The sum of ' + str(int_a) + ' and ' + str(int_b) + ' is ' + str((int_a + int_b)) + '.')\n",
    "      \n",
    "\n",
    "# God Tier\n",
    "print(f'The sum of {int_a} and {int_b} is {int_a + int_b}.')"
   ]
  },
  {
   "cell_type": "markdown",
   "id": "625c7ef8",
   "metadata": {},
   "source": [
    "____________________________________________________________________"
   ]
  },
  {
   "cell_type": "markdown",
   "id": "ab870f7d",
   "metadata": {},
   "source": [
    "# Containers\n",
    "\n",
    "Containers are datastructures that hold multiple elements rather than only one.\n",
    "\n",
    "All containers are iterables but not all iterables are containers.\n",
    "Strings occupy a gray zone where they are iterables but not containers."
   ]
  },
  {
   "cell_type": "markdown",
   "id": "e280cf30",
   "metadata": {},
   "source": [
    "## Lists"
   ]
  },
  {
   "cell_type": "markdown",
   "id": "d99e4558",
   "metadata": {},
   "source": [
    "Lists are the most commonly used container in python.\n",
    "Lists are iterable, mutable."
   ]
  },
  {
   "cell_type": "code",
   "execution_count": 35,
   "id": "ceb0e006",
   "metadata": {},
   "outputs": [
    {
     "data": {
      "text/plain": [
       "[1, 0.5, 'Bruh', [1, 2, 3]]"
      ]
     },
     "execution_count": 35,
     "metadata": {},
     "output_type": "execute_result"
    }
   ],
   "source": [
    "list_a = [1,2,3]\n",
    "list_b = [int_a,float_a,string_a,list_a]\n",
    "\n",
    "list_b"
   ]
  },
  {
   "cell_type": "code",
   "execution_count": 36,
   "id": "9b6d904f",
   "metadata": {},
   "outputs": [
    {
     "data": {
      "text/plain": [
       "[1, 0.5, 'Bruh', [1, 2, 3], 1, 2, 3]"
      ]
     },
     "execution_count": 36,
     "metadata": {},
     "output_type": "execute_result"
    }
   ],
   "source": [
    "#Lists are mutable\n",
    "list_b + list_a"
   ]
  },
  {
   "cell_type": "code",
   "execution_count": 37,
   "id": "e6e80020",
   "metadata": {},
   "outputs": [
    {
     "data": {
      "text/plain": [
       "[1, 2, 3]"
      ]
     },
     "execution_count": 37,
     "metadata": {},
     "output_type": "execute_result"
    }
   ],
   "source": [
    "# Accesing an item in the list\n",
    "list_b[3]"
   ]
  },
  {
   "cell_type": "markdown",
   "id": "16b98d14",
   "metadata": {},
   "source": [
    "## Tuples"
   ]
  },
  {
   "cell_type": "markdown",
   "id": "cea51c19",
   "metadata": {},
   "source": [
    "Tuples are iterable, immutable, but are useful in development because they can be unpacked."
   ]
  },
  {
   "cell_type": "code",
   "execution_count": 38,
   "id": "bf6bb64b",
   "metadata": {},
   "outputs": [],
   "source": [
    "tuple_a = (1,2,3,4,5,'a')"
   ]
  },
  {
   "cell_type": "code",
   "execution_count": 39,
   "id": "fea56469",
   "metadata": {},
   "outputs": [],
   "source": [
    "# Unpacking the tuple\n",
    "one,two,*three_and_more = tuple_a"
   ]
  },
  {
   "cell_type": "code",
   "execution_count": 40,
   "id": "190ee419",
   "metadata": {},
   "outputs": [
    {
     "data": {
      "text/plain": [
       "1"
      ]
     },
     "execution_count": 40,
     "metadata": {},
     "output_type": "execute_result"
    }
   ],
   "source": [
    "# Unpacked values are variables\n",
    "one"
   ]
  },
  {
   "cell_type": "code",
   "execution_count": 41,
   "id": "60d1a26a",
   "metadata": {},
   "outputs": [
    {
     "data": {
      "text/plain": [
       "2"
      ]
     },
     "execution_count": 41,
     "metadata": {},
     "output_type": "execute_result"
    }
   ],
   "source": [
    "two"
   ]
  },
  {
   "cell_type": "code",
   "execution_count": 42,
   "id": "fb3cd772",
   "metadata": {},
   "outputs": [
    {
     "data": {
      "text/plain": [
       "[3, 4, 5, 'a']"
      ]
     },
     "execution_count": 42,
     "metadata": {},
     "output_type": "execute_result"
    }
   ],
   "source": [
    "# Multiple unpacked are a list\n",
    "three_and_more"
   ]
  },
  {
   "cell_type": "markdown",
   "id": "719f52df",
   "metadata": {},
   "source": [
    "## Sets"
   ]
  },
  {
   "cell_type": "markdown",
   "id": "c852e61a",
   "metadata": {},
   "source": [
    "Python sets are datastructures that mimic mathmatical sets.\n",
    "\n",
    "\n",
    "$\\{x \\mid x \\text{ is positive and even}\\}$ \n",
    "\n",
    "=\n",
    "\n",
    "$\\{2, 4, 6, 8\\dots\\}$ \n"
   ]
  },
  {
   "cell_type": "code",
   "execution_count": 43,
   "id": "dba8ed5e",
   "metadata": {},
   "outputs": [],
   "source": [
    "set_a = {1,2,3}\n",
    "set_b = {3,4,5}"
   ]
  },
  {
   "cell_type": "code",
   "execution_count": 44,
   "id": "2b017577",
   "metadata": {},
   "outputs": [
    {
     "data": {
      "text/plain": [
       "{3}"
      ]
     },
     "execution_count": 44,
     "metadata": {},
     "output_type": "execute_result"
    }
   ],
   "source": [
    "# Intersection\n",
    "set_a & set_b"
   ]
  },
  {
   "cell_type": "code",
   "execution_count": 45,
   "id": "9d4e2001",
   "metadata": {},
   "outputs": [
    {
     "data": {
      "text/plain": [
       "{1, 2, 3, 4, 5}"
      ]
     },
     "execution_count": 45,
     "metadata": {},
     "output_type": "execute_result"
    }
   ],
   "source": [
    "# Union\n",
    "set_a | set_b"
   ]
  },
  {
   "cell_type": "markdown",
   "id": "4eab9960",
   "metadata": {},
   "source": [
    "_____________________________________"
   ]
  },
  {
   "cell_type": "markdown",
   "id": "cbac34b2",
   "metadata": {},
   "source": [
    "## Dictionary"
   ]
  },
  {
   "cell_type": "markdown",
   "id": "dac6f407",
   "metadata": {},
   "source": [
    "Dictionaries are containers where you strore data with key value pairs.\n",
    "\n",
    "Keys access values.\n",
    "\n",
    "Keys can be strings, numbers or variables.\n",
    "Values can be almost anything.\n",
    "\n",
    "To get the details read the documentation."
   ]
  },
  {
   "cell_type": "code",
   "execution_count": 46,
   "id": "28ce5472",
   "metadata": {},
   "outputs": [],
   "source": [
    "dict_a = {'EVERYTHING':'NOTHING',\n",
    "          100:'Still nothing :P',\n",
    "          'again':[0,0,0,0,-float('inf')]}"
   ]
  },
  {
   "cell_type": "code",
   "execution_count": 47,
   "id": "06015cca",
   "metadata": {},
   "outputs": [
    {
     "data": {
      "text/plain": [
       "'NOTHING'"
      ]
     },
     "execution_count": 47,
     "metadata": {},
     "output_type": "execute_result"
    }
   ],
   "source": [
    "#Acess one\n",
    "dict_a['EVERYTHING']"
   ]
  },
  {
   "cell_type": "code",
   "execution_count": 48,
   "id": "423312f2",
   "metadata": {},
   "outputs": [
    {
     "data": {
      "text/plain": [
       "'Still nothing :P'"
      ]
     },
     "execution_count": 48,
     "metadata": {},
     "output_type": "execute_result"
    }
   ],
   "source": [
    "#Try again\n",
    "dict_a[100]"
   ]
  },
  {
   "cell_type": "code",
   "execution_count": 49,
   "id": "f193b65e",
   "metadata": {},
   "outputs": [
    {
     "data": {
      "text/plain": [
       "[0, 0, 0, 0, -inf]"
      ]
     },
     "execution_count": 49,
     "metadata": {},
     "output_type": "execute_result"
    }
   ],
   "source": [
    "#Again\n",
    "dict_a['again']"
   ]
  },
  {
   "cell_type": "markdown",
   "id": "9e00dbf6",
   "metadata": {},
   "source": [
    "### Container slicing"
   ]
  },
  {
   "cell_type": "markdown",
   "id": "79c9a7df",
   "metadata": {},
   "source": [
    "syntax is `iterable_name[start:stop:increment]`\n",
    "\n",
    "`[start,stop)` - Start inclusive, stop exclusive\n",
    "\n",
    "WARNING: doesn't work on sets."
   ]
  },
  {
   "cell_type": "code",
   "execution_count": 6,
   "id": "ff441a53",
   "metadata": {},
   "outputs": [
    {
     "data": {
      "text/plain": [
       "'c'"
      ]
     },
     "execution_count": 6,
     "metadata": {},
     "output_type": "execute_result"
    }
   ],
   "source": [
    "# you can index all iterables\n",
    "'abcdef'[2]"
   ]
  },
  {
   "cell_type": "code",
   "execution_count": 1,
   "id": "bffb9ccd",
   "metadata": {},
   "outputs": [
    {
     "data": {
      "text/plain": [
       "[1, 2, 3, 4]"
      ]
     },
     "execution_count": 1,
     "metadata": {},
     "output_type": "execute_result"
    }
   ],
   "source": [
    "# slicing with start and stop\n",
    "[1,2,3,4,5][0:4]"
   ]
  },
  {
   "cell_type": "code",
   "execution_count": 9,
   "id": "00dcc975",
   "metadata": {},
   "outputs": [
    {
     "data": {
      "text/plain": [
       "[1, 3]"
      ]
     },
     "execution_count": 9,
     "metadata": {},
     "output_type": "execute_result"
    }
   ],
   "source": [
    "# slicing with start,stop and increment\n",
    "[1,2,3,4,5][0:4:2]"
   ]
  },
  {
   "cell_type": "code",
   "execution_count": 11,
   "id": "97716e28",
   "metadata": {},
   "outputs": [
    {
     "data": {
      "text/plain": [
       "4"
      ]
     },
     "execution_count": 11,
     "metadata": {},
     "output_type": "execute_result"
    }
   ],
   "source": [
    "# negative index starts counting backwards\n",
    "[1,2,3,4,5][-2]"
   ]
  },
  {
   "cell_type": "code",
   "execution_count": 13,
   "id": "54c0a33e",
   "metadata": {},
   "outputs": [
    {
     "data": {
      "text/plain": [
       "[5, 4, 3, 2, 1]"
      ]
     },
     "execution_count": 13,
     "metadata": {},
     "output_type": "execute_result"
    }
   ],
   "source": [
    "# Neat little trick to reverse an iterable \n",
    "[1,2,3,4,5][::-1]"
   ]
  },
  {
   "cell_type": "markdown",
   "id": "b1525fd5",
   "metadata": {},
   "source": [
    "## Type casting"
   ]
  },
  {
   "cell_type": "markdown",
   "id": "0da00819",
   "metadata": {},
   "source": [
    "Type casting allows you to convert one data type to another.\n",
    "\n",
    "WARNING: Not all type conversions work. Iterables can be converted to other iterables, but non iterable data types can't be converted to iterable datatypes or vice versa. "
   ]
  },
  {
   "cell_type": "code",
   "execution_count": 97,
   "id": "3005885f",
   "metadata": {},
   "outputs": [
    {
     "data": {
      "text/plain": [
       "'12345'"
      ]
     },
     "execution_count": 97,
     "metadata": {},
     "output_type": "execute_result"
    }
   ],
   "source": [
    "#Examples.\n",
    "nums_string = '12345'\n",
    "nums_int = 112233\n",
    "\n",
    "# Its obviously a string\n",
    "nums_string"
   ]
  },
  {
   "cell_type": "code",
   "execution_count": 98,
   "id": "c15fc93c",
   "metadata": {},
   "outputs": [
    {
     "data": {
      "text/plain": [
       "12345"
      ]
     },
     "execution_count": 98,
     "metadata": {},
     "output_type": "execute_result"
    }
   ],
   "source": [
    "int(nums_string)"
   ]
  },
  {
   "cell_type": "code",
   "execution_count": 99,
   "id": "d59c4451",
   "metadata": {},
   "outputs": [
    {
     "data": {
      "text/plain": [
       "12345.0"
      ]
     },
     "execution_count": 99,
     "metadata": {},
     "output_type": "execute_result"
    }
   ],
   "source": [
    "float(nums_string)"
   ]
  },
  {
   "cell_type": "code",
   "execution_count": 100,
   "id": "af9232c2",
   "metadata": {},
   "outputs": [
    {
     "data": {
      "text/plain": [
       "(12345+0j)"
      ]
     },
     "execution_count": 100,
     "metadata": {},
     "output_type": "execute_result"
    }
   ],
   "source": [
    "complex(nums_string)"
   ]
  },
  {
   "cell_type": "code",
   "execution_count": 101,
   "id": "f68550a2",
   "metadata": {},
   "outputs": [
    {
     "data": {
      "text/plain": [
       "['1', '2', '3', '4', '5']"
      ]
     },
     "execution_count": 101,
     "metadata": {},
     "output_type": "execute_result"
    }
   ],
   "source": [
    "list(nums_string)"
   ]
  },
  {
   "cell_type": "code",
   "execution_count": 102,
   "id": "0f733742",
   "metadata": {},
   "outputs": [
    {
     "data": {
      "text/plain": [
       "('1', '2', '3', '4', '5')"
      ]
     },
     "execution_count": 102,
     "metadata": {},
     "output_type": "execute_result"
    }
   ],
   "source": [
    "tuple(nums_string)"
   ]
  },
  {
   "cell_type": "code",
   "execution_count": 103,
   "id": "51157c37",
   "metadata": {},
   "outputs": [
    {
     "data": {
      "text/plain": [
       "'112233'"
      ]
     },
     "execution_count": 103,
     "metadata": {},
     "output_type": "execute_result"
    }
   ],
   "source": [
    "str(nums_int)"
   ]
  },
  {
   "cell_type": "markdown",
   "id": "9da11827",
   "metadata": {},
   "source": [
    "### Accepting user input"
   ]
  },
  {
   "cell_type": "markdown",
   "id": "e380f7cd",
   "metadata": {},
   "source": [
    "For accepting user input via the command line."
   ]
  },
  {
   "cell_type": "code",
   "execution_count": 104,
   "id": "389b01bc",
   "metadata": {},
   "outputs": [
    {
     "name": "stdout",
     "output_type": "stream",
     "text": [
      "How old are you? 23\n"
     ]
    }
   ],
   "source": [
    "user_age = input('How old are you? ')"
   ]
  },
  {
   "cell_type": "code",
   "execution_count": 105,
   "id": "aace45fa",
   "metadata": {},
   "outputs": [
    {
     "data": {
      "text/plain": [
       "'23'"
      ]
     },
     "execution_count": 105,
     "metadata": {},
     "output_type": "execute_result"
    }
   ],
   "source": [
    "user_age"
   ]
  },
  {
   "cell_type": "code",
   "execution_count": 107,
   "id": "5861570d",
   "metadata": {},
   "outputs": [
    {
     "name": "stdout",
     "output_type": "stream",
     "text": [
      "You are 3 years older than 20.\n"
     ]
    }
   ],
   "source": [
    "print(f'You are {int(user_age) - 20} years older than 20.')"
   ]
  },
  {
   "cell_type": "markdown",
   "id": "90088d3f",
   "metadata": {},
   "source": [
    "____________________________________________________________________________________"
   ]
  },
  {
   "cell_type": "markdown",
   "id": "99a566b2",
   "metadata": {},
   "source": [
    "# Control flow"
   ]
  },
  {
   "cell_type": "markdown",
   "id": "ee838af3",
   "metadata": {},
   "source": [
    "Control flow is how the programs consecutive instruvtions are structured."
   ]
  },
  {
   "cell_type": "markdown",
   "id": "5d308b6f",
   "metadata": {},
   "source": [
    "## Conditional statements"
   ]
  },
  {
   "cell_type": "code",
   "execution_count": 51,
   "id": "3613d484",
   "metadata": {},
   "outputs": [],
   "source": [
    "four = 4\n",
    "five = 5\n",
    "six = 6"
   ]
  },
  {
   "cell_type": "code",
   "execution_count": 52,
   "id": "3c3d22a4",
   "metadata": {},
   "outputs": [
    {
     "name": "stdout",
     "output_type": "stream",
     "text": [
      "five is bigger than four\n"
     ]
    }
   ],
   "source": [
    "if five >= four:\n",
    "    print('five is bigger than four')"
   ]
  },
  {
   "cell_type": "code",
   "execution_count": 53,
   "id": "711709b8",
   "metadata": {},
   "outputs": [
    {
     "name": "stdout",
     "output_type": "stream",
     "text": [
      "That can't be true\n"
     ]
    }
   ],
   "source": [
    "if five < four:\n",
    "    print('five is bigger than four')\n",
    "else:\n",
    "    print(\"That can't be true\")"
   ]
  },
  {
   "cell_type": "code",
   "execution_count": 54,
   "id": "dccf4acc",
   "metadata": {},
   "outputs": [
    {
     "name": "stdout",
     "output_type": "stream",
     "text": [
      "6 is bigger than 5\n"
     ]
    }
   ],
   "source": [
    "if five < four:\n",
    "    print('five is bigger than four')\n",
    "    \n",
    "elif six > 5:\n",
    "    print('6 is bigger than 5')\n",
    "\n",
    "else:\n",
    "    print(\"That can't be true\")"
   ]
  },
  {
   "cell_type": "markdown",
   "id": "dabfaa09",
   "metadata": {},
   "source": [
    "______________________________________________________________________"
   ]
  },
  {
   "cell_type": "markdown",
   "id": "fbae341c",
   "metadata": {},
   "source": [
    "## While loops"
   ]
  },
  {
   "cell_type": "code",
   "execution_count": 55,
   "id": "5a873602",
   "metadata": {},
   "outputs": [
    {
     "name": "stdout",
     "output_type": "stream",
     "text": [
      "0\n",
      "1\n",
      "2\n",
      "3\n",
      "4\n",
      "5\n"
     ]
    }
   ],
   "source": [
    "# Loop until come sort of condition is met\n",
    "\n",
    "counter = 0\n",
    "\n",
    "while counter <= 5:\n",
    "    print(counter)\n",
    "    counter += 1"
   ]
  },
  {
   "cell_type": "code",
   "execution_count": 56,
   "id": "39bf7af1",
   "metadata": {},
   "outputs": [
    {
     "name": "stdout",
     "output_type": "stream",
     "text": [
      "0\n",
      "1\n",
      "2\n",
      "3\n",
      "4\n",
      "5\n"
     ]
    }
   ],
   "source": [
    "# You can control the flow from inside of the loop too\n",
    "\n",
    "counter = 0\n",
    "\n",
    "while True:  # infinte loop\n",
    "    \n",
    "    # Control flow inside of loop\n",
    "    if counter > 5:\n",
    "        break\n",
    "    \n",
    "    print(counter)\n",
    "    counter += 1"
   ]
  },
  {
   "cell_type": "markdown",
   "id": "6570f871",
   "metadata": {},
   "source": [
    "___________________________________________________"
   ]
  },
  {
   "cell_type": "markdown",
   "id": "2d071fb6",
   "metadata": {},
   "source": [
    "## For loops"
   ]
  },
  {
   "cell_type": "markdown",
   "id": "62056a27",
   "metadata": {},
   "source": [
    "For loops in python are not like the for loops in C or matlab. Where you set a loop counter and loop till the counter runs out.\n",
    "\n",
    "In python for loops are for each loops, which means the loop runs over every element in an iterable or a container."
   ]
  },
  {
   "cell_type": "code",
   "execution_count": 57,
   "id": "a01267d1",
   "metadata": {},
   "outputs": [
    {
     "name": "stdout",
     "output_type": "stream",
     "text": [
      "0\n",
      "1\n",
      "2\n",
      "3\n",
      "4\n",
      "5\n"
     ]
    }
   ],
   "source": [
    "# Standard python for loop.\n",
    "\n",
    "# The range() function is a contrainer, it looks like [0,1,2,3,4,5]\n",
    "for number in range(6):\n",
    "    print(number)"
   ]
  },
  {
   "cell_type": "markdown",
   "id": "808a0985",
   "metadata": {},
   "source": [
    "### Iterating over containers. "
   ]
  },
  {
   "cell_type": "code",
   "execution_count": 58,
   "id": "bdf5bc5e",
   "metadata": {},
   "outputs": [
    {
     "data": {
      "text/plain": [
       "[1, 0.5, 'Bruh', [1, 2, 3]]"
      ]
     },
     "execution_count": 58,
     "metadata": {},
     "output_type": "execute_result"
    }
   ],
   "source": [
    "list_b"
   ]
  },
  {
   "cell_type": "code",
   "execution_count": 59,
   "id": "4d1d0ec9",
   "metadata": {},
   "outputs": [
    {
     "name": "stdout",
     "output_type": "stream",
     "text": [
      "1\n",
      "0.5\n",
      "Bruh\n",
      "[1, 2, 3]\n"
     ]
    }
   ],
   "source": [
    "#For loops iterate\n",
    "# This is the pythonic way to do it.\n",
    "\n",
    "for item in list_b:\n",
    "    print(item)"
   ]
  },
  {
   "cell_type": "code",
   "execution_count": 60,
   "id": "aee36dfc",
   "metadata": {},
   "outputs": [
    {
     "name": "stdout",
     "output_type": "stream",
     "text": [
      "1\n",
      "0.5\n",
      "Bruh\n",
      "[1, 2, 3]\n"
     ]
    }
   ],
   "source": [
    "# Don't do this! This is ugly.\n",
    "# This is how those who come from C do it, this is unpythonic.\n",
    "\n",
    "for index in range(len(list_b)):\n",
    "    print(list_b[index])"
   ]
  },
  {
   "cell_type": "code",
   "execution_count": 61,
   "id": "c62b1299",
   "metadata": {},
   "outputs": [
    {
     "name": "stdout",
     "output_type": "stream",
     "text": [
      "index = 0, item = 1\n",
      "index = 1, item = 0.5\n",
      "index = 2, item = Bruh\n",
      "index = 3, item = [1, 2, 3]\n"
     ]
    }
   ],
   "source": [
    "# If you absolutely need the index, do this.\n",
    "\n",
    "for index,item in enumerate(list_b):\n",
    "    print(f'index = {index}, item = {item}')"
   ]
  },
  {
   "cell_type": "markdown",
   "id": "43a44737",
   "metadata": {},
   "source": [
    "## For else loop"
   ]
  },
  {
   "cell_type": "markdown",
   "id": "092b113e",
   "metadata": {},
   "source": [
    "The for else loop is a special case of the for loop. \n",
    "\n",
    "The else clause in the loop only executes if there is no premature exit and the loop is allowed to complete."
   ]
  },
  {
   "cell_type": "code",
   "execution_count": 62,
   "id": "77ea37b0",
   "metadata": {},
   "outputs": [],
   "source": [
    "evens_list = [2,4,6,8]\n",
    "even_list_but_with_one_odd = [2,4,5,6,8] # DO NOT NAME THINGS LIKE THIS IN A REAL CODE BASE ! "
   ]
  },
  {
   "cell_type": "code",
   "execution_count": 63,
   "id": "40f5084c",
   "metadata": {},
   "outputs": [
    {
     "name": "stdout",
     "output_type": "stream",
     "text": [
      "2 is even\n",
      "4 is even\n",
      "6 is even\n",
      "8 is even\n",
      "ALL EVEN NUMBERS!\n"
     ]
    }
   ],
   "source": [
    "for number in evens_list:\n",
    "    if number % 2 == 0:\n",
    "        print(f'{number} is even')\n",
    "else:\n",
    "    print('ALL EVEN NUMBERS!')\n",
    "        "
   ]
  },
  {
   "cell_type": "code",
   "execution_count": 64,
   "id": "1560582a",
   "metadata": {},
   "outputs": [
    {
     "name": "stdout",
     "output_type": "stream",
     "text": [
      "2 is even\n",
      "4 is even\n",
      "5 is Odd! ABORT!\n"
     ]
    }
   ],
   "source": [
    "for number in even_list_but_with_one_odd:\n",
    "    if number % 2 == 0:\n",
    "        print(f'{number} is even')\n",
    "    else:\n",
    "        print(f'{number} is Odd! ABORT!')\n",
    "        break\n",
    "else:\n",
    "    print('ALL EVEN NUMBERS!')"
   ]
  },
  {
   "cell_type": "markdown",
   "id": "ca35ced7",
   "metadata": {},
   "source": [
    "There are more clauses than break, such as pass and continue. Those can be explored later."
   ]
  },
  {
   "cell_type": "markdown",
   "id": "650fec7d",
   "metadata": {},
   "source": [
    "____________________________________________________________________________"
   ]
  },
  {
   "cell_type": "markdown",
   "id": "669d40fb",
   "metadata": {},
   "source": [
    "# Structure"
   ]
  },
  {
   "cell_type": "markdown",
   "id": "78018d8c",
   "metadata": {},
   "source": [
    "Your code will get extremely unweidly very quickly if you just write line by line using primitives, so we can use functions and classes to factorize our code.\n",
    "\n",
    "Factorizing code is called refactoring. It is the same idea as factorizing a mathmatical expression."
   ]
  },
  {
   "cell_type": "markdown",
   "id": "35c531b7",
   "metadata": {},
   "source": [
    "## Functions\n",
    "\n"
   ]
  },
  {
   "cell_type": "markdown",
   "id": "8d1bd3e1",
   "metadata": {},
   "source": [
    "For not reapeating code over and over again."
   ]
  },
  {
   "cell_type": "code",
   "execution_count": 65,
   "id": "1d48e6ac",
   "metadata": {},
   "outputs": [
    {
     "name": "stdout",
     "output_type": "stream",
     "text": [
      "😱😱😱😱😱😱\n",
      "AAAAAA\n",
      "AAAAAA\n",
      "AAAAAA\n",
      "!!!!!!\n",
      "😱😱😱😱😱😱\n",
      "AAAAAA\n",
      "AAAAAA\n",
      "AAAAAA\n",
      "!!!!!!\n",
      "😱😱😱😱😱😱\n",
      "AAAAAA\n",
      "AAAAAA\n",
      "AAAAAA\n",
      "!!!!!!\n",
      "😱😱😱😱😱😱\n",
      "AAAAAA\n",
      "AAAAAA\n",
      "AAAAAA\n",
      "!!!!!!\n",
      "😱😱😱😱😱😱\n",
      "AAAAAA\n",
      "AAAAAA\n",
      "AAAAAA\n",
      "!!!!!!\n"
     ]
    }
   ],
   "source": [
    "# Argument less function\n",
    "def scream():\n",
    "    for letter in '😱AAA!'*5:\n",
    "        print(letter*6)\n",
    "        \n",
    "scream()"
   ]
  },
  {
   "cell_type": "code",
   "execution_count": 66,
   "id": "cee53955",
   "metadata": {},
   "outputs": [
    {
     "data": {
      "text/plain": [
       "'Hi Guys, THIS is a pythOn workShop And I wilL be TeAChinG you how to code iN pYtHon ToDay'"
      ]
     },
     "execution_count": 66,
     "metadata": {},
     "output_type": "execute_result"
    }
   ],
   "source": [
    "# Functions with arguments\n",
    "\n",
    "import random\n",
    "\n",
    "def make_fun(sentence):\n",
    "    '''\n",
    "    This function makes fun of you.\n",
    "    '''\n",
    "    mocked_sentence = ''\n",
    "    for letter in sentence:\n",
    "        rand = random.randint(1,50)\n",
    "        if rand % 3:\n",
    "            mocked_sentence += letter\n",
    "        else:\n",
    "            mocked_sentence += letter.upper()\n",
    "    \n",
    "    return mocked_sentence\n",
    "\n",
    "\n",
    "fardin_intro = 'Hi guys, This is a python workshop and I will be teaching you how to code in python today'\n",
    "\n",
    "make_fun(fardin_intro)"
   ]
  },
  {
   "cell_type": "markdown",
   "id": "edae0701",
   "metadata": {},
   "source": [
    "## Classes"
   ]
  },
  {
   "cell_type": "markdown",
   "id": "029d0dcc",
   "metadata": {},
   "source": [
    "Classes are a step above functions, they are objects that have attributes and functions, this makes your code even cleaner than just using functions could."
   ]
  },
  {
   "cell_type": "code",
   "execution_count": 67,
   "id": "78d71c63",
   "metadata": {},
   "outputs": [],
   "source": [
    "# Basic class definition.\n",
    "class Square:\n",
    "    def __init__(self,breadth,width):\n",
    "        self.breadth = breadth\n",
    "        self.width = width\n",
    "        \n",
    "    def area(self):\n",
    "        return self.width * self.breadth\n",
    "    \n",
    "    def perimeter(self):\n",
    "        return 2*(self.width) + 2*(self.breadth)"
   ]
  },
  {
   "cell_type": "code",
   "execution_count": 68,
   "id": "a5beec5e",
   "metadata": {},
   "outputs": [],
   "source": [
    "my_square = Square(2,4)"
   ]
  },
  {
   "cell_type": "code",
   "execution_count": 69,
   "id": "eea7ab28",
   "metadata": {},
   "outputs": [
    {
     "data": {
      "text/plain": [
       "2"
      ]
     },
     "execution_count": 69,
     "metadata": {},
     "output_type": "execute_result"
    }
   ],
   "source": [
    "my_square.breadth"
   ]
  },
  {
   "cell_type": "code",
   "execution_count": 70,
   "id": "3f22e4e5",
   "metadata": {},
   "outputs": [
    {
     "data": {
      "text/plain": [
       "4"
      ]
     },
     "execution_count": 70,
     "metadata": {},
     "output_type": "execute_result"
    }
   ],
   "source": [
    "my_square.width"
   ]
  },
  {
   "cell_type": "code",
   "execution_count": 71,
   "id": "09d831bc",
   "metadata": {},
   "outputs": [
    {
     "data": {
      "text/plain": [
       "8"
      ]
     },
     "execution_count": 71,
     "metadata": {},
     "output_type": "execute_result"
    }
   ],
   "source": [
    "my_square.area()"
   ]
  },
  {
   "cell_type": "code",
   "execution_count": 72,
   "id": "3deba2a6",
   "metadata": {},
   "outputs": [
    {
     "data": {
      "text/plain": [
       "12"
      ]
     },
     "execution_count": 72,
     "metadata": {},
     "output_type": "execute_result"
    }
   ],
   "source": [
    "my_square.perimeter()"
   ]
  },
  {
   "cell_type": "markdown",
   "id": "f103a1b6",
   "metadata": {},
   "source": [
    "# Importing libraries"
   ]
  },
  {
   "cell_type": "markdown",
   "id": "6c772bb7",
   "metadata": {},
   "source": [
    "### Base python is cool, but the libraries of python are why it is so popular. It has a very extensive built in library and almost an endless amount of third party libraries. \n",
    "\n",
    "### If theres something you want to do in python, there's a HIGH CHANCE theres already a library for it.\n",
    "\n",
    "### Seriously, the third party libraries make python. "
   ]
  },
  {
   "cell_type": "code",
   "execution_count": 73,
   "id": "d8ec7d75",
   "metadata": {},
   "outputs": [
    {
     "data": {
      "text/plain": [
       "30"
      ]
     },
     "execution_count": 73,
     "metadata": {},
     "output_type": "execute_result"
    }
   ],
   "source": [
    "# To import a library its as easy as just importing it.\n",
    "import random\n",
    "\n",
    "random.randint(1,50)"
   ]
  },
  {
   "cell_type": "code",
   "execution_count": 74,
   "id": "1204bccc",
   "metadata": {},
   "outputs": [],
   "source": [
    "#import this"
   ]
  },
  {
   "cell_type": "code",
   "execution_count": 75,
   "id": "c467715a",
   "metadata": {},
   "outputs": [],
   "source": [
    "#import antigravity"
   ]
  },
  {
   "cell_type": "markdown",
   "id": "ae506e41",
   "metadata": {},
   "source": [
    "### Serious now fr."
   ]
  },
  {
   "cell_type": "markdown",
   "id": "46f4f68a",
   "metadata": {},
   "source": [
    "### Lets explore some usecases of python and see how third party libraries help."
   ]
  },
  {
   "cell_type": "markdown",
   "id": "fbfc6ca3",
   "metadata": {},
   "source": [
    "________________________________________"
   ]
  },
  {
   "cell_type": "markdown",
   "id": "d52e6e00",
   "metadata": {},
   "source": [
    "## Scripting"
   ]
  },
  {
   "cell_type": "markdown",
   "id": "219ba8b3",
   "metadata": {},
   "source": [
    "Python is so easy to code in, it is a favorite among scripters."
   ]
  },
  {
   "cell_type": "code",
   "execution_count": 76,
   "id": "d6040c00",
   "metadata": {},
   "outputs": [],
   "source": [
    "import re"
   ]
  },
  {
   "cell_type": "code",
   "execution_count": 77,
   "id": "072b98ff",
   "metadata": {},
   "outputs": [],
   "source": [
    "story = \"\"\"\n",
    "My name is Fardin Ahsan\n",
    "Joe Biden is the president of the US\n",
    "\n",
    "My uni email is fxa8225@rit.edu\n",
    "My personal email is fardinahsan146@gmail.com\n",
    "\n",
    "My phone number is 050-1468233\n",
    "\"\"\""
   ]
  },
  {
   "cell_type": "markdown",
   "id": "14d3eb6b",
   "metadata": {},
   "source": [
    "#### Lets write a script to pull out the information I need from the story."
   ]
  },
  {
   "cell_type": "code",
   "execution_count": 78,
   "id": "a8ba8099",
   "metadata": {},
   "outputs": [
    {
     "data": {
      "text/plain": [
       "['Fardin Ahsan', 'Joe Biden']"
      ]
     },
     "execution_count": 78,
     "metadata": {},
     "output_type": "execute_result"
    }
   ],
   "source": [
    "# Lets find all the names in the story\n",
    "name_regex = r'[A-Z]{1}[a-z]+ [A-Z]{1}[a-z]+'\n",
    "\n",
    "re.findall(name_regex,story)"
   ]
  },
  {
   "cell_type": "code",
   "execution_count": 79,
   "id": "5ba4a84e",
   "metadata": {},
   "outputs": [
    {
     "data": {
      "text/plain": [
       "['fxa8225@rit.edu', 'fardinahsan146@gmail.com']"
      ]
     },
     "execution_count": 79,
     "metadata": {},
     "output_type": "execute_result"
    }
   ],
   "source": [
    "# Lets find all the emails\n",
    "email_regex = r'[\\w\\d]+@[\\w\\d]+.[\\w]{3}'\n",
    "\n",
    "re.findall(email_regex,story)"
   ]
  },
  {
   "cell_type": "code",
   "execution_count": 80,
   "id": "0d2e67a2",
   "metadata": {},
   "outputs": [
    {
     "data": {
      "text/plain": [
       "['050-1468233']"
      ]
     },
     "execution_count": 80,
     "metadata": {},
     "output_type": "execute_result"
    }
   ],
   "source": [
    "# Lets find all the phonenumders\n",
    "phone_regex = r'05[058]-[\\d]{7}'\n",
    "\n",
    "re.findall(phone_regex,story)"
   ]
  },
  {
   "cell_type": "markdown",
   "id": "d6d19b24",
   "metadata": {},
   "source": [
    "## Scientific/mathmatic computing with NumPy\n",
    "\n",
    "NumPy website - https://numpy.org"
   ]
  },
  {
   "cell_type": "code",
   "execution_count": 81,
   "id": "b4a1d17d",
   "metadata": {},
   "outputs": [],
   "source": [
    "import numpy as np"
   ]
  },
  {
   "cell_type": "markdown",
   "id": "2638a026",
   "metadata": {},
   "source": [
    "NumPy is short for Numerical python. It is THE goto library in scientific computing and most of the library is written in FORTRAN and C/C++, thus is is very fast. You can pretty much throw away MATLAB if you learn how to use NumPy."
   ]
  },
  {
   "cell_type": "code",
   "execution_count": 82,
   "id": "46c3b929",
   "metadata": {},
   "outputs": [
    {
     "data": {
      "text/plain": [
       "[2, 4, 6, 8, 10]"
      ]
     },
     "execution_count": 82,
     "metadata": {},
     "output_type": "execute_result"
    }
   ],
   "source": [
    "#python lists are not vectorized like MATLAB arrays.\n",
    "python_list = [1,2,3,4,5]\n",
    "\n",
    "#If I want to multiply all elements in the list by two I have to do this\n",
    "\n",
    "[element*2 for element in python_list]"
   ]
  },
  {
   "cell_type": "code",
   "execution_count": 83,
   "id": "512b97a0",
   "metadata": {},
   "outputs": [
    {
     "data": {
      "text/plain": [
       "array([ 2,  4,  6,  8, 10])"
      ]
     },
     "execution_count": 83,
     "metadata": {},
     "output_type": "execute_result"
    }
   ],
   "source": [
    "#With numpy I can get vectorization\n",
    "vector = np.array([1,2,3,4,5])\n",
    "\n",
    "vector*2"
   ]
  },
  {
   "cell_type": "code",
   "execution_count": 84,
   "id": "a0b49be0",
   "metadata": {},
   "outputs": [
    {
     "data": {
      "text/plain": [
       "array([[ 4,  6,  4],\n",
       "       [10, 15, 10],\n",
       "       [ 2,  3,  2]])"
      ]
     },
     "execution_count": 84,
     "metadata": {},
     "output_type": "execute_result"
    }
   ],
   "source": [
    "#Matrix multiplication in python is a doozy.\n",
    "\n",
    "A = np.array([[1,2,3], [4,5,6], [1,1,1]])\n",
    "B = np.array([[1,1,1], [0,1,0], [1,1,1]])\n",
    "\n",
    "A @ B"
   ]
  },
  {
   "cell_type": "markdown",
   "id": "60a10e1e",
   "metadata": {},
   "source": [
    "## Data Analysis\n",
    "\n",
    "Pandas for tabular data - https://pandas.pydata.org\n",
    "\n",
    "Matplotlib for plotting/graphing - https://matplotlib.org"
   ]
  },
  {
   "cell_type": "code",
   "execution_count": 85,
   "id": "d7eb14b5",
   "metadata": {},
   "outputs": [],
   "source": [
    "# Lets use the Yahoo Finance API\n",
    "import yfinance as yf\n",
    "\n",
    "# Some other libraries to help me a bit.\n",
    "import pandas as pd\n",
    "import datetime\n",
    "from matplotlib import pyplot as plt"
   ]
  },
  {
   "cell_type": "code",
   "execution_count": 86,
   "id": "76719d18",
   "metadata": {
    "scrolled": true
   },
   "outputs": [
    {
     "data": {
      "text/html": [
       "<div>\n",
       "<style scoped>\n",
       "    .dataframe tbody tr th:only-of-type {\n",
       "        vertical-align: middle;\n",
       "    }\n",
       "\n",
       "    .dataframe tbody tr th {\n",
       "        vertical-align: top;\n",
       "    }\n",
       "\n",
       "    .dataframe thead th {\n",
       "        text-align: right;\n",
       "    }\n",
       "</style>\n",
       "<table border=\"1\" class=\"dataframe\">\n",
       "  <thead>\n",
       "    <tr style=\"text-align: right;\">\n",
       "      <th></th>\n",
       "      <th>Open</th>\n",
       "      <th>High</th>\n",
       "      <th>Low</th>\n",
       "      <th>Close</th>\n",
       "      <th>Volume</th>\n",
       "      <th>Dividends</th>\n",
       "      <th>Stock Splits</th>\n",
       "    </tr>\n",
       "    <tr>\n",
       "      <th>Date</th>\n",
       "      <th></th>\n",
       "      <th></th>\n",
       "      <th></th>\n",
       "      <th></th>\n",
       "      <th></th>\n",
       "      <th></th>\n",
       "      <th></th>\n",
       "    </tr>\n",
       "  </thead>\n",
       "  <tbody>\n",
       "    <tr>\n",
       "      <th>2020-11-18</th>\n",
       "      <td>211.873992</td>\n",
       "      <td>213.381361</td>\n",
       "      <td>209.176601</td>\n",
       "      <td>209.325363</td>\n",
       "      <td>28372800</td>\n",
       "      <td>0.56</td>\n",
       "      <td>0</td>\n",
       "    </tr>\n",
       "    <tr>\n",
       "      <th>2020-11-19</th>\n",
       "      <td>209.622888</td>\n",
       "      <td>211.259166</td>\n",
       "      <td>208.184929</td>\n",
       "      <td>210.654236</td>\n",
       "      <td>24792700</td>\n",
       "      <td>0.00</td>\n",
       "      <td>0</td>\n",
       "    </tr>\n",
       "    <tr>\n",
       "      <th>2020-11-20</th>\n",
       "      <td>210.436050</td>\n",
       "      <td>211.516985</td>\n",
       "      <td>208.254341</td>\n",
       "      <td>208.641098</td>\n",
       "      <td>22843100</td>\n",
       "      <td>0.00</td>\n",
       "      <td>0</td>\n",
       "    </tr>\n",
       "    <tr>\n",
       "      <th>2020-11-23</th>\n",
       "      <td>209.196448</td>\n",
       "      <td>210.525305</td>\n",
       "      <td>206.429646</td>\n",
       "      <td>208.363434</td>\n",
       "      <td>25683500</td>\n",
       "      <td>0.00</td>\n",
       "      <td>0</td>\n",
       "    </tr>\n",
       "    <tr>\n",
       "      <th>2020-11-24</th>\n",
       "      <td>207.847766</td>\n",
       "      <td>212.469033</td>\n",
       "      <td>207.123838</td>\n",
       "      <td>212.082275</td>\n",
       "      <td>33979700</td>\n",
       "      <td>0.00</td>\n",
       "      <td>0</td>\n",
       "    </tr>\n",
       "    <tr>\n",
       "      <th>...</th>\n",
       "      <td>...</td>\n",
       "      <td>...</td>\n",
       "      <td>...</td>\n",
       "      <td>...</td>\n",
       "      <td>...</td>\n",
       "      <td>...</td>\n",
       "      <td>...</td>\n",
       "    </tr>\n",
       "    <tr>\n",
       "      <th>2021-11-11</th>\n",
       "      <td>330.645069</td>\n",
       "      <td>333.160456</td>\n",
       "      <td>329.906430</td>\n",
       "      <td>331.822906</td>\n",
       "      <td>16849800</td>\n",
       "      <td>0.00</td>\n",
       "      <td>0</td>\n",
       "    </tr>\n",
       "    <tr>\n",
       "      <th>2021-11-12</th>\n",
       "      <td>333.310228</td>\n",
       "      <td>336.614181</td>\n",
       "      <td>333.180460</td>\n",
       "      <td>336.105103</td>\n",
       "      <td>23822000</td>\n",
       "      <td>0.00</td>\n",
       "      <td>0</td>\n",
       "    </tr>\n",
       "    <tr>\n",
       "      <th>2021-11-15</th>\n",
       "      <td>336.923616</td>\n",
       "      <td>337.262991</td>\n",
       "      <td>333.420016</td>\n",
       "      <td>335.456299</td>\n",
       "      <td>16723000</td>\n",
       "      <td>0.00</td>\n",
       "      <td>0</td>\n",
       "    </tr>\n",
       "    <tr>\n",
       "      <th>2021-11-16</th>\n",
       "      <td>335.066992</td>\n",
       "      <td>340.047900</td>\n",
       "      <td>334.897319</td>\n",
       "      <td>338.890015</td>\n",
       "      <td>20886800</td>\n",
       "      <td>0.00</td>\n",
       "      <td>0</td>\n",
       "    </tr>\n",
       "    <tr>\n",
       "      <th>2021-11-17</th>\n",
       "      <td>338.940002</td>\n",
       "      <td>342.190002</td>\n",
       "      <td>338.000000</td>\n",
       "      <td>339.119995</td>\n",
       "      <td>19016700</td>\n",
       "      <td>0.62</td>\n",
       "      <td>0</td>\n",
       "    </tr>\n",
       "  </tbody>\n",
       "</table>\n",
       "<p>252 rows × 7 columns</p>\n",
       "</div>"
      ],
      "text/plain": [
       "                  Open        High         Low       Close    Volume  \\\n",
       "Date                                                                   \n",
       "2020-11-18  211.873992  213.381361  209.176601  209.325363  28372800   \n",
       "2020-11-19  209.622888  211.259166  208.184929  210.654236  24792700   \n",
       "2020-11-20  210.436050  211.516985  208.254341  208.641098  22843100   \n",
       "2020-11-23  209.196448  210.525305  206.429646  208.363434  25683500   \n",
       "2020-11-24  207.847766  212.469033  207.123838  212.082275  33979700   \n",
       "...                ...         ...         ...         ...       ...   \n",
       "2021-11-11  330.645069  333.160456  329.906430  331.822906  16849800   \n",
       "2021-11-12  333.310228  336.614181  333.180460  336.105103  23822000   \n",
       "2021-11-15  336.923616  337.262991  333.420016  335.456299  16723000   \n",
       "2021-11-16  335.066992  340.047900  334.897319  338.890015  20886800   \n",
       "2021-11-17  338.940002  342.190002  338.000000  339.119995  19016700   \n",
       "\n",
       "            Dividends  Stock Splits  \n",
       "Date                                 \n",
       "2020-11-18       0.56             0  \n",
       "2020-11-19       0.00             0  \n",
       "2020-11-20       0.00             0  \n",
       "2020-11-23       0.00             0  \n",
       "2020-11-24       0.00             0  \n",
       "...               ...           ...  \n",
       "2021-11-11       0.00             0  \n",
       "2021-11-12       0.00             0  \n",
       "2021-11-15       0.00             0  \n",
       "2021-11-16       0.00             0  \n",
       "2021-11-17       0.62             0  \n",
       "\n",
       "[252 rows x 7 columns]"
      ]
     },
     "execution_count": 86,
     "metadata": {},
     "output_type": "execute_result"
    }
   ],
   "source": [
    "start = datetime.datetime.now() - datetime.timedelta(days=365)\n",
    "end = datetime.datetime.now()\n",
    "\n",
    "# Lets get all microsoft stock market data\n",
    "tickerSymbol = 'MSFT'\n",
    "tickerData = yf.Ticker(tickerSymbol)\n",
    "\n",
    "df = tickerData.history(period = '1d', start = start, end = end)\n",
    "df"
   ]
  },
  {
   "cell_type": "code",
   "execution_count": 87,
   "id": "6ec9e46b",
   "metadata": {},
   "outputs": [
    {
     "data": {
      "text/plain": [
       "<matplotlib.legend.Legend at 0x2259908b820>"
      ]
     },
     "execution_count": 87,
     "metadata": {},
     "output_type": "execute_result"
    },
    {
     "data": {
      "image/png": "[encoded data removed]",
      "text/plain": [
       "<Figure size 1080x360 with 1 Axes>"
      ]
     },
     "metadata": {
      "needs_background": "light"
     },
     "output_type": "display_data"
    }
   ],
   "source": [
    "plt.figure(figsize=(15,5))\n",
    "plt.plot(df[\"Close\"],label=\"Closing price, MSFT\")\n",
    "plt.grid()\n",
    "plt.legend(loc='upper left',fontsize=\"x-large\")"
   ]
  },
  {
   "cell_type": "markdown",
   "id": "a3ceb88d",
   "metadata": {},
   "source": [
    "## Machine Learning + AI\n",
    "\n",
    "Scikit-Learn for Machine learning - https://scikit-learn.org/stable/index.html"
   ]
  },
  {
   "cell_type": "code",
   "execution_count": 88,
   "id": "3b3dffa2",
   "metadata": {},
   "outputs": [],
   "source": [
    "from sklearn.datasets import fetch_olivetti_faces\n",
    "from sklearn.utils.validation import check_random_state\n",
    "from sklearn.ensemble import ExtraTreesRegressor\n",
    "from sklearn.neighbors import KNeighborsRegressor\n",
    "from sklearn.linear_model import LinearRegression\n",
    "from sklearn.linear_model import RidgeCV"
   ]
  },
  {
   "cell_type": "code",
   "execution_count": 89,
   "id": "f62b65fe",
   "metadata": {},
   "outputs": [
    {
     "data": {
      "image/png": "[encoded data removed]",
      "text/plain": [
       "<Figure size 720x813.6 with 25 Axes>"
      ]
     },
     "metadata": {
      "needs_background": "light"
     },
     "output_type": "display_data"
    }
   ],
   "source": [
    "# Load the faces datasets\n",
    "data, targets = fetch_olivetti_faces(return_X_y=True)\n",
    "\n",
    "train = data[targets < 30]\n",
    "test = data[targets >= 30]  # Test on independent people\n",
    "\n",
    "# Test on a subset of people\n",
    "n_faces = 5\n",
    "rng = check_random_state(4)\n",
    "face_ids = rng.randint(test.shape[0], size=(n_faces,))\n",
    "test = test[face_ids, :]\n",
    "\n",
    "n_pixels = data.shape[1]\n",
    "# Upper half of the faces\n",
    "X_train = train[:, : (n_pixels + 1) // 2]\n",
    "# Lower half of the faces\n",
    "y_train = train[:, n_pixels // 2 :]\n",
    "X_test = test[:, : (n_pixels + 1) // 2]\n",
    "y_test = test[:, n_pixels // 2 :]\n",
    "\n",
    "# Fit estimators\n",
    "ESTIMATORS = {\n",
    "    \"Extra trees\": ExtraTreesRegressor(\n",
    "        n_estimators=10, max_features=32, random_state=0\n",
    "    ),\n",
    "    \"K-nn\": KNeighborsRegressor(),\n",
    "    \"Linear regression\": LinearRegression(),\n",
    "    \"Ridge\": RidgeCV(),\n",
    "}\n",
    "\n",
    "y_test_predict = dict()\n",
    "for name, estimator in ESTIMATORS.items():\n",
    "    estimator.fit(X_train, y_train)\n",
    "    y_test_predict[name] = estimator.predict(X_test)\n",
    "\n",
    "# Plot the completed faces\n",
    "image_shape = (64, 64)\n",
    "\n",
    "n_cols = 1 + len(ESTIMATORS)\n",
    "plt.figure(figsize=(2.0 * n_cols, 2.26 * n_faces))\n",
    "plt.suptitle(\"Face completion with multi-output estimators\", size=16)\n",
    "\n",
    "for i in range(n_faces):\n",
    "    true_face = np.hstack((X_test[i], y_test[i]))\n",
    "\n",
    "    if i:\n",
    "        sub = plt.subplot(n_faces, n_cols, i * n_cols + 1)\n",
    "    else:\n",
    "        sub = plt.subplot(n_faces, n_cols, i * n_cols + 1, title=\"true faces\")\n",
    "\n",
    "    sub.axis(\"off\")\n",
    "    sub.imshow(\n",
    "        true_face.reshape(image_shape), cmap=plt.cm.gray, interpolation=\"nearest\"\n",
    "    )\n",
    "\n",
    "    for j, est in enumerate(sorted(ESTIMATORS)):\n",
    "        completed_face = np.hstack((X_test[i], y_test_predict[est][i]))\n",
    "\n",
    "        if i:\n",
    "            sub = plt.subplot(n_faces, n_cols, i * n_cols + 2 + j)\n",
    "\n",
    "        else:\n",
    "            sub = plt.subplot(n_faces, n_cols, i * n_cols + 2 + j, title=est)\n",
    "\n",
    "        sub.axis(\"off\")\n",
    "        sub.imshow(\n",
    "            completed_face.reshape(image_shape),\n",
    "            cmap=plt.cm.gray,\n",
    "            interpolation=\"nearest\",\n",
    "        )\n",
    "\n",
    "plt.show()"
   ]
  },
  {
   "cell_type": "markdown",
   "id": "cf7e963a",
   "metadata": {},
   "source": [
    "_______________________________________________________________________________"
   ]
  },
  {
   "cell_type": "markdown",
   "id": "0904c37d",
   "metadata": {},
   "source": [
    "# Thank You! Any questions?\n",
    "\n",
    "# If you liked this lecture and found it informative, please let us know! Tutorial 2 will be a lot more informative"
   ]
  },
  {
   "cell_type": "code",
   "execution_count": null,
   "id": "3ae0814d",
   "metadata": {},
   "outputs": [],
   "source": []
  }
 ],
 "metadata": {
  "kernelspec": {
   "display_name": "Python 3 (ipykernel)",
   "language": "python",
   "name": "python3"
  },
  "language_info": {
   "codemirror_mode": {
    "name": "ipython",
    "version": 3
   },
   "file_extension": ".py",
   "mimetype": "text/x-python",
   "name": "python",
   "nbconvert_exporter": "python",
   "pygments_lexer": "ipython3",
   "version": "3.8.12"
  }
 },
 "nbformat": 4,
 "nbformat_minor": 5
}
