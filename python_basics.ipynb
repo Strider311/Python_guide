{
 "cells": [
  {
   "attachments": {},
   "cell_type": "markdown",
   "id": "81bce22a",
   "metadata": {},
   "source": [
    "\n",
    "\n",
    "<H1 align=\"center\">\n",
    "    Python For Engineers - Tutorial 1\n",
    "</H1>\n",
    "\n",
    "## By: Fardin Ahsan\n",
    "## Modified: Saifeldin Hassan\n",
    "\n",
    "___________________________________\n",
    "\n",
    "# Introduction to python\n",
    "\n",
    "Note: This tutorial is not even the tip of the iceberg. For a real comprehensive tutorial visit the official python tutorial.\n",
    "https://docs.python.org/3/tutorial/index.html"
   ]
  },
  {
   "cell_type": "markdown",
   "id": "b6672eb7",
   "metadata": {},
   "source": [
    "## Comments"
   ]
  },
  {
   "cell_type": "code",
   "execution_count": null,
   "id": "0128ceda",
   "metadata": {},
   "outputs": [],
   "source": [
    "\"\"\"\n",
    "This is a multi line comment.\n",
    "It can be as many lines as you want.\n",
    "\"\"\"\n",
    "\n",
    "# This is a single line comment.\n",
    "\n",
    "\n",
    "print('HelLo WoRlD') # This is an inline comment holding on to programming tradition"
   ]
  },
  {
   "cell_type": "markdown",
   "id": "ac12e462",
   "metadata": {},
   "source": [
    "# Numbers"
   ]
  },
  {
   "cell_type": "markdown",
   "id": "9df953ba",
   "metadata": {},
   "source": [
    "## Integers"
   ]
  },
  {
   "cell_type": "code",
   "execution_count": null,
   "id": "c2f56df3",
   "metadata": {},
   "outputs": [],
   "source": [
    "# declaring some integers\n",
    "int_a = 1\n",
    "int_b = 2\n",
    "int_c = 3"
   ]
  },
  {
   "cell_type": "code",
   "execution_count": null,
   "id": "98525879",
   "metadata": {},
   "outputs": [],
   "source": [
    "# Addition\n",
    "int_a + int_b - 4"
   ]
  },
  {
   "cell_type": "code",
   "execution_count": null,
   "id": "0b44a0d0",
   "metadata": {},
   "outputs": [],
   "source": [
    "# Multiplication\n",
    "int_a * int_b"
   ]
  },
  {
   "cell_type": "code",
   "execution_count": null,
   "id": "b233c908",
   "metadata": {},
   "outputs": [],
   "source": [
    "# Exponentiation \n",
    "int_b ** int_c"
   ]
  },
  {
   "cell_type": "code",
   "execution_count": null,
   "id": "1a7a3b44",
   "metadata": {},
   "outputs": [],
   "source": [
    "# Division\n",
    "int_a / int_b"
   ]
  },
  {
   "cell_type": "code",
   "execution_count": null,
   "id": "e1ed70c3",
   "metadata": {},
   "outputs": [],
   "source": [
    "'''\n",
    "Floor division, divides then rounds down to an integer,\n",
    "This is similar to division in the C language\n",
    "\n",
    "'''\n",
    "int_c // int_b"
   ]
  },
  {
   "cell_type": "code",
   "execution_count": null,
   "id": "9dcfe6c5",
   "metadata": {},
   "outputs": [],
   "source": [
    "#The modulus operator gives the remainder\n",
    "\n",
    "int_c % int_b"
   ]
  },
  {
   "cell_type": "markdown",
   "id": "4a88f125",
   "metadata": {},
   "source": [
    "## Complex"
   ]
  },
  {
   "cell_type": "code",
   "execution_count": null,
   "id": "31f5bd0e",
   "metadata": {},
   "outputs": [],
   "source": [
    "cmplx_a = 1 + 2j\n",
    "cmplx_b = 2 + 3j"
   ]
  },
  {
   "cell_type": "code",
   "execution_count": null,
   "id": "f5c90009",
   "metadata": {},
   "outputs": [],
   "source": [
    "# Addition\n",
    "cmplx_a + cmplx_b"
   ]
  },
  {
   "cell_type": "code",
   "execution_count": null,
   "id": "dd1d5cf4",
   "metadata": {},
   "outputs": [],
   "source": [
    "# Magnitude\n",
    "abs(cmplx_a)"
   ]
  },
  {
   "cell_type": "markdown",
   "id": "fea5e63a",
   "metadata": {},
   "source": [
    "## Float"
   ]
  },
  {
   "cell_type": "code",
   "execution_count": null,
   "id": "ea705284",
   "metadata": {},
   "outputs": [],
   "source": [
    "float_a = 0.5\n",
    "float_b = 1.5"
   ]
  },
  {
   "cell_type": "code",
   "execution_count": null,
   "id": "e4f371ec",
   "metadata": {},
   "outputs": [],
   "source": [
    "float_b / float_a"
   ]
  },
  {
   "cell_type": "markdown",
   "id": "03530caa",
   "metadata": {},
   "source": [
    "## Bonus: Binary number operators"
   ]
  },
  {
   "cell_type": "markdown",
   "id": "f1948355",
   "metadata": {},
   "source": [
    "Binary numbers are integers and you won't be programming low level hardware on python (unless you hate life and what it has to offer) but some operators do exist for bitwise manipulation, FYI."
   ]
  },
  {
   "cell_type": "code",
   "execution_count": null,
   "id": "78c23c3a",
   "metadata": {},
   "outputs": [],
   "source": [
    "# Some binary numbers\n",
    "\n",
    "bin_a = 0b1010 # 10 in decimal\n",
    "bin_b = 0b0101 # 5"
   ]
  },
  {
   "cell_type": "code",
   "execution_count": null,
   "id": "5a0be752",
   "metadata": {},
   "outputs": [],
   "source": [
    "#Bitwise AND\n",
    "bin_a & bin_b"
   ]
  },
  {
   "cell_type": "code",
   "execution_count": null,
   "id": "c46615fc",
   "metadata": {},
   "outputs": [],
   "source": [
    "#Bitwise OR\n",
    "bin_a | bin_b"
   ]
  },
  {
   "cell_type": "code",
   "execution_count": null,
   "id": "77d95206",
   "metadata": {},
   "outputs": [],
   "source": [
    "#Bitwise XOR\n",
    "bin_a ^ bin_b"
   ]
  },
  {
   "cell_type": "code",
   "execution_count": null,
   "id": "c0382086",
   "metadata": {},
   "outputs": [],
   "source": [
    "#Right shift\n",
    "bin_a >> 1"
   ]
  },
  {
   "cell_type": "code",
   "execution_count": null,
   "id": "eecf553e",
   "metadata": {},
   "outputs": [],
   "source": [
    "#Left shift\n",
    "bin_a << 1"
   ]
  },
  {
   "cell_type": "code",
   "execution_count": null,
   "id": "dfbec31f",
   "metadata": {},
   "outputs": [],
   "source": [
    "#Ones complement \n",
    "~bin_a "
   ]
  },
  {
   "cell_type": "markdown",
   "id": "849282f4",
   "metadata": {},
   "source": [
    "________________________________"
   ]
  },
  {
   "cell_type": "markdown",
   "id": "c33b7815",
   "metadata": {},
   "source": [
    "# Booleans"
   ]
  },
  {
   "cell_type": "markdown",
   "id": "9b3262e9",
   "metadata": {},
   "source": [
    "#### Booleans are conditional/LOGICAL values, The and,or and XOR here are NOT the same thing as the bitwise operators! They are kind of the same but they are not (reasons too complicated for tutorial 1), 99% of the time you will be using these conditionals not the bitwise operators. "
   ]
  },
  {
   "cell_type": "code",
   "execution_count": null,
   "id": "08452489",
   "metadata": {},
   "outputs": [],
   "source": [
    "bool_a = True\n",
    "bool_b = False\n",
    "bool_c = 1"
   ]
  },
  {
   "cell_type": "code",
   "execution_count": null,
   "id": "d13b4e2c",
   "metadata": {},
   "outputs": [],
   "source": [
    "# logical negation\n",
    "not bool_a"
   ]
  },
  {
   "cell_type": "code",
   "execution_count": null,
   "id": "dc880392",
   "metadata": {},
   "outputs": [],
   "source": [
    "# Logical AND\n",
    "bool_a and bool_b"
   ]
  },
  {
   "cell_type": "code",
   "execution_count": null,
   "id": "11389e35",
   "metadata": {},
   "outputs": [],
   "source": [
    "# Logical OR\n",
    "bool_a or bool_b"
   ]
  },
  {
   "cell_type": "code",
   "execution_count": null,
   "id": "2dd40830",
   "metadata": {},
   "outputs": [],
   "source": [
    "# Logical XOR\n",
    "bool_a ^ bool_b"
   ]
  },
  {
   "cell_type": "code",
   "execution_count": null,
   "id": "191c7325",
   "metadata": {},
   "outputs": [],
   "source": [
    "# 0's and 1's work in the place of True and False too\n",
    "not bool_c"
   ]
  },
  {
   "cell_type": "markdown",
   "id": "afcf3672",
   "metadata": {},
   "source": [
    "______________________________________________________"
   ]
  },
  {
   "cell_type": "markdown",
   "id": "d40271a6",
   "metadata": {},
   "source": [
    "# Strings"
   ]
  },
  {
   "cell_type": "code",
   "execution_count": null,
   "id": "65af6579",
   "metadata": {},
   "outputs": [],
   "source": [
    "string_a = \"Hi\"\n",
    "string_b = \"I am a string\""
   ]
  },
  {
   "cell_type": "code",
   "execution_count": null,
   "id": "da04e7e7",
   "metadata": {},
   "outputs": [],
   "source": [
    "# concatenation\n",
    "string_a + string_b"
   ]
  },
  {
   "cell_type": "code",
   "execution_count": null,
   "id": "afa3d695",
   "metadata": {},
   "outputs": [],
   "source": [
    "# Better concatenation\n",
    "string_a + ' ' + string_b"
   ]
  },
  {
   "cell_type": "code",
   "execution_count": null,
   "id": "7401abe4",
   "metadata": {},
   "outputs": [],
   "source": [
    "# Slicing \n",
    "string_a[0:3]"
   ]
  },
  {
   "cell_type": "code",
   "execution_count": null,
   "id": "84662802",
   "metadata": {},
   "outputs": [],
   "source": [
    "# Iterating\n",
    "for letter in string_a:\n",
    "    print(letter)"
   ]
  },
  {
   "cell_type": "code",
   "execution_count": null,
   "id": "45ed87f2",
   "metadata": {},
   "outputs": [],
   "source": [
    "# String methods\n",
    "# Note there are way too many I am going to show only one!\n",
    "\n",
    "string_a.upper()"
   ]
  },
  {
   "cell_type": "code",
   "execution_count": null,
   "id": "a91b6feb",
   "metadata": {},
   "outputs": [],
   "source": [
    "'''\n",
    "String concateration and slicing is amateurish and non pythonic.\n",
    "\n",
    "In python development it is reccomended to use use f strings.\n",
    "\n",
    "Because it looks so much better!\n",
    "\n",
    "And as we know from before, in python sometimes better looking is actually better.\n",
    "\n",
    "'''\n",
    "# Unclean\n",
    "print('The sum of ' + str(int_a) + ' and ' + str(int_b) + ' is ' + str((int_a + int_b)) + '.')\n",
    "      \n",
    "\n",
    "# Clean\n",
    "print(f'The sum of {int_a} and {int_b} is {int_a + int_b}.')"
   ]
  },
  {
   "cell_type": "markdown",
   "id": "625c7ef8",
   "metadata": {},
   "source": [
    "____________________________________________________________________"
   ]
  },
  {
   "cell_type": "markdown",
   "id": "ab870f7d",
   "metadata": {},
   "source": [
    "# Containers\n",
    "\n",
    "Containers are datastructures that hold multiple elements rather than only one.\n",
    "\n",
    "All containers are iterables but not all iterables are containers.\n",
    "Strings occupy a gray zone where they are iterables but not containers."
   ]
  },
  {
   "cell_type": "markdown",
   "id": "e280cf30",
   "metadata": {},
   "source": [
    "## Lists"
   ]
  },
  {
   "cell_type": "markdown",
   "id": "d99e4558",
   "metadata": {},
   "source": [
    "Lists are the most commonly used container in python.\n",
    "Lists are iterable, mutable."
   ]
  },
  {
   "cell_type": "code",
   "execution_count": null,
   "id": "ceb0e006",
   "metadata": {},
   "outputs": [],
   "source": [
    "list_a = [1,2,3]\n",
    "list_b = [int_a,float_a,string_a,list_a]\n",
    "\n",
    "list_b"
   ]
  },
  {
   "cell_type": "code",
   "execution_count": null,
   "id": "9b6d904f",
   "metadata": {},
   "outputs": [],
   "source": [
    "#Lists are mutable\n",
    "list_b + list_a"
   ]
  },
  {
   "cell_type": "code",
   "execution_count": null,
   "id": "e6e80020",
   "metadata": {},
   "outputs": [],
   "source": [
    "# Accesing an item in the list\n",
    "list_b[3]"
   ]
  },
  {
   "cell_type": "markdown",
   "id": "16b98d14",
   "metadata": {},
   "source": [
    "## Tuples"
   ]
  },
  {
   "cell_type": "markdown",
   "id": "cea51c19",
   "metadata": {},
   "source": [
    "Tuples are iterable, immutable, but are useful in development because they can be unpacked."
   ]
  },
  {
   "cell_type": "code",
   "execution_count": null,
   "id": "bf6bb64b",
   "metadata": {},
   "outputs": [],
   "source": [
    "tuple_a = (1,2,3,4,5,'a')"
   ]
  },
  {
   "cell_type": "code",
   "execution_count": null,
   "id": "fea56469",
   "metadata": {},
   "outputs": [],
   "source": [
    "# Unpacking the tuple\n",
    "one,two,*three_and_more = tuple_a"
   ]
  },
  {
   "cell_type": "code",
   "execution_count": null,
   "id": "190ee419",
   "metadata": {},
   "outputs": [],
   "source": [
    "# Unpacked values are variables\n",
    "one"
   ]
  },
  {
   "cell_type": "code",
   "execution_count": null,
   "id": "60d1a26a",
   "metadata": {},
   "outputs": [],
   "source": [
    "two"
   ]
  },
  {
   "cell_type": "code",
   "execution_count": null,
   "id": "fb3cd772",
   "metadata": {},
   "outputs": [],
   "source": [
    "# Multiple unpacked are a list\n",
    "three_and_more"
   ]
  },
  {
   "cell_type": "markdown",
   "id": "719f52df",
   "metadata": {},
   "source": [
    "## Sets"
   ]
  },
  {
   "cell_type": "markdown",
   "id": "c852e61a",
   "metadata": {},
   "source": [
    "Python sets are datastructures that mimic mathmatical sets.\n",
    "\n",
    "\n",
    "$\\{x \\mid x \\text{ is positive and even}\\}$ \n",
    "\n",
    "=\n",
    "\n",
    "$\\{2, 4, 6, 8\\dots\\}$ \n"
   ]
  },
  {
   "cell_type": "code",
   "execution_count": null,
   "id": "dba8ed5e",
   "metadata": {},
   "outputs": [],
   "source": [
    "set_a = {1,2,3}\n",
    "set_b = {3,4,5}"
   ]
  },
  {
   "cell_type": "code",
   "execution_count": null,
   "id": "2b017577",
   "metadata": {},
   "outputs": [],
   "source": [
    "# Intersection\n",
    "set_a & set_b"
   ]
  },
  {
   "cell_type": "code",
   "execution_count": null,
   "id": "9d4e2001",
   "metadata": {},
   "outputs": [],
   "source": [
    "# Union\n",
    "set_a | set_b"
   ]
  },
  {
   "cell_type": "markdown",
   "id": "4eab9960",
   "metadata": {},
   "source": [
    "_____________________________________"
   ]
  },
  {
   "cell_type": "markdown",
   "id": "cbac34b2",
   "metadata": {},
   "source": [
    "## Dictionary"
   ]
  },
  {
   "cell_type": "markdown",
   "id": "dac6f407",
   "metadata": {},
   "source": [
    "Dictionaries are containers where you strore data with key value pairs.\n",
    "\n",
    "Keys access values.\n",
    "\n",
    "Keys can be strings, numbers or variables.\n",
    "Values can be almost anything.\n",
    "\n",
    "To get the details read the documentation."
   ]
  },
  {
   "cell_type": "code",
   "execution_count": null,
   "id": "28ce5472",
   "metadata": {},
   "outputs": [],
   "source": [
    "dict_a = {\n",
    "            'EVERYTHING':'NOTHING',\n",
    "            100:'Still nothing :P',\n",
    "            'again':[0,0,0,0,-float('inf')]\n",
    "        }"
   ]
  },
  {
   "cell_type": "code",
   "execution_count": null,
   "id": "06015cca",
   "metadata": {},
   "outputs": [],
   "source": [
    "#Access one\n",
    "dict_a['EVERYTHING']"
   ]
  },
  {
   "cell_type": "code",
   "execution_count": null,
   "id": "423312f2",
   "metadata": {},
   "outputs": [],
   "source": [
    "#Try again\n",
    "dict_a[100]"
   ]
  },
  {
   "cell_type": "code",
   "execution_count": null,
   "id": "f193b65e",
   "metadata": {},
   "outputs": [],
   "source": [
    "#Again\n",
    "dict_a['again']"
   ]
  },
  {
   "cell_type": "markdown",
   "id": "9e00dbf6",
   "metadata": {},
   "source": [
    "### Container slicing"
   ]
  },
  {
   "cell_type": "markdown",
   "id": "79c9a7df",
   "metadata": {},
   "source": [
    "syntax is `iterable_name[start:stop:increment]`\n",
    "\n",
    "`[start,stop)` - Start inclusive, stop exclusive\n",
    "\n",
    "WARNING: doesn't work on sets."
   ]
  },
  {
   "cell_type": "code",
   "execution_count": null,
   "id": "ff441a53",
   "metadata": {},
   "outputs": [],
   "source": [
    "# you can index all iterables\n",
    "'abcdef'[2]"
   ]
  },
  {
   "cell_type": "code",
   "execution_count": null,
   "id": "bffb9ccd",
   "metadata": {},
   "outputs": [],
   "source": [
    "# slicing with start and stop\n",
    "[1,2,3,4,5][0:4]"
   ]
  },
  {
   "cell_type": "code",
   "execution_count": null,
   "id": "00dcc975",
   "metadata": {},
   "outputs": [],
   "source": [
    "# slicing with start,stop and increment\n",
    "[1,2,3,4,5][0:4:2]"
   ]
  },
  {
   "cell_type": "code",
   "execution_count": null,
   "id": "97716e28",
   "metadata": {},
   "outputs": [],
   "source": [
    "# negative index starts counting backwards\n",
    "[1,2,3,4,5][-2]"
   ]
  },
  {
   "cell_type": "code",
   "execution_count": null,
   "id": "54c0a33e",
   "metadata": {},
   "outputs": [],
   "source": [
    "# Neat little trick to reverse an iterable \n",
    "[1,2,3,4,5][::-1]"
   ]
  },
  {
   "cell_type": "markdown",
   "id": "b1525fd5",
   "metadata": {},
   "source": [
    "## Type casting"
   ]
  },
  {
   "cell_type": "markdown",
   "id": "0da00819",
   "metadata": {},
   "source": [
    "Type casting allows you to convert one data type to another.\n",
    "\n",
    "WARNING: Not all type conversions work. Iterables can be converted to other iterables, but non iterable data types can't be converted to iterable datatypes or vice versa. "
   ]
  },
  {
   "cell_type": "code",
   "execution_count": null,
   "id": "3005885f",
   "metadata": {},
   "outputs": [],
   "source": [
    "#Examples.\n",
    "nums_string = '12345'\n",
    "nums_int = 112233\n",
    "\n",
    "# Its obviously a string\n",
    "nums_string"
   ]
  },
  {
   "cell_type": "code",
   "execution_count": null,
   "id": "c15fc93c",
   "metadata": {},
   "outputs": [],
   "source": [
    "int(nums_string)"
   ]
  },
  {
   "cell_type": "code",
   "execution_count": null,
   "id": "d59c4451",
   "metadata": {},
   "outputs": [],
   "source": [
    "float(nums_string)"
   ]
  },
  {
   "cell_type": "code",
   "execution_count": null,
   "id": "af9232c2",
   "metadata": {},
   "outputs": [],
   "source": [
    "complex(nums_string)"
   ]
  },
  {
   "cell_type": "code",
   "execution_count": null,
   "id": "f68550a2",
   "metadata": {},
   "outputs": [],
   "source": [
    "list(nums_string)"
   ]
  },
  {
   "cell_type": "code",
   "execution_count": null,
   "id": "0f733742",
   "metadata": {},
   "outputs": [],
   "source": [
    "tuple(nums_string)"
   ]
  },
  {
   "cell_type": "code",
   "execution_count": null,
   "id": "51157c37",
   "metadata": {},
   "outputs": [],
   "source": [
    "str(nums_int)"
   ]
  },
  {
   "cell_type": "markdown",
   "id": "9da11827",
   "metadata": {},
   "source": [
    "### Accepting user input"
   ]
  },
  {
   "cell_type": "markdown",
   "id": "e380f7cd",
   "metadata": {},
   "source": [
    "For accepting user input via the command line."
   ]
  },
  {
   "cell_type": "code",
   "execution_count": null,
   "id": "389b01bc",
   "metadata": {},
   "outputs": [],
   "source": [
    "user_age = input('How old are you? ')"
   ]
  },
  {
   "cell_type": "code",
   "execution_count": null,
   "id": "aace45fa",
   "metadata": {},
   "outputs": [],
   "source": [
    "user_age"
   ]
  },
  {
   "cell_type": "code",
   "execution_count": null,
   "id": "5861570d",
   "metadata": {},
   "outputs": [],
   "source": [
    "print(f'You are {int(user_age) - 20} years older than 20.')"
   ]
  },
  {
   "cell_type": "markdown",
   "id": "90088d3f",
   "metadata": {},
   "source": [
    "____________________________________________________________________________________"
   ]
  },
  {
   "cell_type": "markdown",
   "id": "99a566b2",
   "metadata": {},
   "source": [
    "# Control flow"
   ]
  },
  {
   "cell_type": "markdown",
   "id": "ee838af3",
   "metadata": {},
   "source": [
    "Control flow is how the programs consecutive instruvtions are structured."
   ]
  },
  {
   "cell_type": "markdown",
   "id": "5d308b6f",
   "metadata": {},
   "source": [
    "## Conditional statements"
   ]
  },
  {
   "cell_type": "code",
   "execution_count": null,
   "id": "3613d484",
   "metadata": {},
   "outputs": [],
   "source": [
    "four = 4\n",
    "five = 5\n",
    "six = 6"
   ]
  },
  {
   "cell_type": "code",
   "execution_count": null,
   "id": "3c3d22a4",
   "metadata": {},
   "outputs": [],
   "source": [
    "if five >= four:\n",
    "    print('five is bigger than four')"
   ]
  },
  {
   "cell_type": "code",
   "execution_count": null,
   "id": "711709b8",
   "metadata": {},
   "outputs": [],
   "source": [
    "if five < four:\n",
    "    print('five is bigger than four')\n",
    "else:\n",
    "    print(\"That can't be true\")"
   ]
  },
  {
   "cell_type": "code",
   "execution_count": null,
   "id": "dccf4acc",
   "metadata": {},
   "outputs": [],
   "source": [
    "if five < four:\n",
    "    print('five is bigger than four')\n",
    "    \n",
    "elif six > 5:\n",
    "    print('6 is bigger than 5')\n",
    "\n",
    "else:\n",
    "    print(\"That can't be true\")"
   ]
  },
  {
   "cell_type": "markdown",
   "id": "dabfaa09",
   "metadata": {},
   "source": [
    "______________________________________________________________________"
   ]
  },
  {
   "cell_type": "markdown",
   "id": "fbae341c",
   "metadata": {},
   "source": [
    "## While loops"
   ]
  },
  {
   "cell_type": "code",
   "execution_count": null,
   "id": "5a873602",
   "metadata": {},
   "outputs": [],
   "source": [
    "# Loop until come sort of condition is met\n",
    "\n",
    "counter = 0\n",
    "\n",
    "while counter <= 5:\n",
    "    print(counter)\n",
    "    counter += 1"
   ]
  },
  {
   "cell_type": "code",
   "execution_count": null,
   "id": "39bf7af1",
   "metadata": {},
   "outputs": [],
   "source": [
    "# You can control the flow from inside of the loop too\n",
    "\n",
    "counter = 0\n",
    "\n",
    "while True:  # infinte loop\n",
    "    \n",
    "    # Control flow inside of loop\n",
    "    if counter > 5:\n",
    "        break\n",
    "    \n",
    "    print(counter)\n",
    "    counter += 1"
   ]
  },
  {
   "cell_type": "markdown",
   "id": "6570f871",
   "metadata": {},
   "source": [
    "___________________________________________________"
   ]
  },
  {
   "cell_type": "markdown",
   "id": "2d071fb6",
   "metadata": {},
   "source": [
    "## For loops"
   ]
  },
  {
   "cell_type": "markdown",
   "id": "62056a27",
   "metadata": {},
   "source": [
    "For loops in python are not like the for loops in C or matlab. Where you set a loop counter and loop till the counter runs out.\n",
    "\n",
    "In python for loops are for each loops, which means the loop runs over every element in an iterable or a container."
   ]
  },
  {
   "cell_type": "code",
   "execution_count": null,
   "id": "a01267d1",
   "metadata": {},
   "outputs": [],
   "source": [
    "# Standard python for loop.\n",
    "\n",
    "# The range() function is a contrainer, it looks like [0,1,2,3,4,5]\n",
    "for number in range(6):\n",
    "    print(number)"
   ]
  },
  {
   "cell_type": "markdown",
   "id": "808a0985",
   "metadata": {},
   "source": [
    "### Iterating over containers. "
   ]
  },
  {
   "cell_type": "code",
   "execution_count": null,
   "id": "bdf5bc5e",
   "metadata": {},
   "outputs": [],
   "source": [
    "list_b"
   ]
  },
  {
   "cell_type": "code",
   "execution_count": null,
   "id": "4d1d0ec9",
   "metadata": {},
   "outputs": [],
   "source": [
    "#For loops iterate\n",
    "# This is the pythonic way to do it.\n",
    "\n",
    "for item in list_b:\n",
    "    print(item)"
   ]
  },
  {
   "cell_type": "code",
   "execution_count": null,
   "id": "aee36dfc",
   "metadata": {},
   "outputs": [],
   "source": [
    "# Don't do this! This is ugly.\n",
    "# This is how those who come from C do it, this is unpythonic.\n",
    "\n",
    "for index in range(len(list_b)):\n",
    "    print(list_b[index])"
   ]
  },
  {
   "cell_type": "code",
   "execution_count": null,
   "id": "c62b1299",
   "metadata": {},
   "outputs": [],
   "source": [
    "# If you absolutely need the index, do this.\n",
    "\n",
    "for index,item in enumerate(list_b):\n",
    "    print(f'index = {index}, item = {item}')"
   ]
  },
  {
   "cell_type": "markdown",
   "id": "43a44737",
   "metadata": {},
   "source": [
    "## For else loop"
   ]
  },
  {
   "cell_type": "markdown",
   "id": "092b113e",
   "metadata": {},
   "source": [
    "The for else loop is a special case of the for loop. \n",
    "\n",
    "The else clause in the loop only executes if there is no premature exit and the loop is allowed to complete."
   ]
  },
  {
   "cell_type": "code",
   "execution_count": null,
   "id": "77ea37b0",
   "metadata": {},
   "outputs": [],
   "source": [
    "evens_list = [2,4,6,8]\n",
    "even_list_but_with_one_odd = [2,4,5,6,8] # DO NOT NAME THINGS LIKE THIS IN A REAL CODE BASE ! "
   ]
  },
  {
   "cell_type": "code",
   "execution_count": null,
   "id": "40f5084c",
   "metadata": {},
   "outputs": [],
   "source": [
    "for number in evens_list:\n",
    "    if number % 2 == 0:\n",
    "        print(f'{number} is even')\n",
    "else:\n",
    "    print('ALL EVEN NUMBERS!')\n",
    "        "
   ]
  },
  {
   "cell_type": "code",
   "execution_count": null,
   "id": "1560582a",
   "metadata": {},
   "outputs": [],
   "source": [
    "for number in even_list_but_with_one_odd:\n",
    "    if number % 2 == 0:\n",
    "        print(f'{number} is even')\n",
    "    else:\n",
    "        print(f'{number} is Odd! ABORT!')\n",
    "        break\n",
    "else:\n",
    "    print('ALL EVEN NUMBERS!')"
   ]
  },
  {
   "cell_type": "markdown",
   "id": "ca35ced7",
   "metadata": {},
   "source": [
    "There are more clauses than break, such as pass and continue. Those can be explored later."
   ]
  },
  {
   "cell_type": "markdown",
   "id": "650fec7d",
   "metadata": {},
   "source": [
    "____________________________________________________________________________"
   ]
  },
  {
   "cell_type": "markdown",
   "id": "669d40fb",
   "metadata": {},
   "source": [
    "# Structure"
   ]
  },
  {
   "cell_type": "markdown",
   "id": "78018d8c",
   "metadata": {},
   "source": [
    "Your code will get extremely unweidly very quickly if you just write line by line using primitives, so we can use functions and classes to factorize our code.\n",
    "\n",
    "Factorizing code is called refactoring. It is the same idea as factorizing a mathmatical expression."
   ]
  },
  {
   "cell_type": "markdown",
   "id": "35c531b7",
   "metadata": {},
   "source": [
    "## Functions\n",
    "\n"
   ]
  },
  {
   "cell_type": "markdown",
   "id": "8d1bd3e1",
   "metadata": {},
   "source": [
    "For not reapeating code over and over again."
   ]
  },
  {
   "cell_type": "code",
   "execution_count": null,
   "id": "cee53955",
   "metadata": {},
   "outputs": [],
   "source": [
    "# Functions with arguments\n",
    "\n",
    "import random\n",
    "\n",
    "def make_fun(sentence):\n",
    "    '''\n",
    "    This function makes fun of you.\n",
    "    '''\n",
    "    mocked_sentence = ''\n",
    "    for letter in sentence:\n",
    "        rand = random.randint(1,50)\n",
    "        if rand % 3:\n",
    "            mocked_sentence += letter\n",
    "        else:\n",
    "            mocked_sentence += letter.upper()\n",
    "    \n",
    "    return mocked_sentence\n",
    "\n",
    "\n",
    "fardin_intro = 'Hi guys, This is a python workshop and I will be teaching you how to code in python today'\n",
    "\n",
    "make_fun(fardin_intro)"
   ]
  },
  {
   "cell_type": "markdown",
   "id": "edae0701",
   "metadata": {},
   "source": [
    "## Classes"
   ]
  },
  {
   "cell_type": "markdown",
   "id": "029d0dcc",
   "metadata": {},
   "source": [
    "Classes are a step above functions, they are objects that have attributes and functions, this makes your code even cleaner than just using functions could."
   ]
  },
  {
   "cell_type": "code",
   "execution_count": null,
   "id": "78d71c63",
   "metadata": {},
   "outputs": [],
   "source": [
    "# Basic class definition.\n",
    "class Square:\n",
    "    def __init__(self,breadth,width):\n",
    "        self.breadth = breadth\n",
    "        self.width = width\n",
    "        \n",
    "    def area(self):\n",
    "        return self.width * self.breadth\n",
    "    \n",
    "    def perimeter(self):\n",
    "        return 2*(self.width) + 2*(self.breadth)"
   ]
  },
  {
   "cell_type": "code",
   "execution_count": null,
   "id": "a5beec5e",
   "metadata": {},
   "outputs": [],
   "source": [
    "my_square = Square(2,4)"
   ]
  },
  {
   "cell_type": "code",
   "execution_count": null,
   "id": "eea7ab28",
   "metadata": {},
   "outputs": [],
   "source": [
    "my_square.breadth"
   ]
  },
  {
   "cell_type": "code",
   "execution_count": null,
   "id": "3f22e4e5",
   "metadata": {},
   "outputs": [],
   "source": [
    "my_square.width"
   ]
  },
  {
   "cell_type": "code",
   "execution_count": null,
   "id": "09d831bc",
   "metadata": {},
   "outputs": [],
   "source": [
    "my_square.area()"
   ]
  },
  {
   "cell_type": "code",
   "execution_count": null,
   "id": "3deba2a6",
   "metadata": {},
   "outputs": [],
   "source": [
    "my_square.perimeter()"
   ]
  },
  {
   "cell_type": "markdown",
   "id": "f103a1b6",
   "metadata": {},
   "source": [
    "# Importing libraries"
   ]
  },
  {
   "cell_type": "markdown",
   "id": "6c772bb7",
   "metadata": {},
   "source": [
    "### Base python is cool, but the libraries of python are why it is so popular. It has a very extensive built in library and almost an endless amount of third party libraries. \n",
    "\n",
    "### If theres something you want to do in python, there's a HIGH CHANCE theres already a library for it.\n",
    "\n",
    "### Seriously, the third party libraries make python. "
   ]
  },
  {
   "cell_type": "code",
   "execution_count": null,
   "id": "d8ec7d75",
   "metadata": {},
   "outputs": [],
   "source": [
    "# To import a library its as easy as just importing it.\n",
    "import random\n",
    "\n",
    "random.randint(1,50)"
   ]
  },
  {
   "cell_type": "markdown",
   "id": "46f4f68a",
   "metadata": {},
   "source": [
    "### Lets explore some usecases of python and see how third party libraries help."
   ]
  },
  {
   "cell_type": "markdown",
   "id": "d6d19b24",
   "metadata": {},
   "source": [
    "## Scientific/mathmatic computing with NumPy\n",
    "\n",
    "NumPy website - https://numpy.org"
   ]
  },
  {
   "cell_type": "code",
   "execution_count": null,
   "id": "b4a1d17d",
   "metadata": {},
   "outputs": [],
   "source": [
    "import numpy as np"
   ]
  },
  {
   "cell_type": "markdown",
   "id": "2638a026",
   "metadata": {},
   "source": [
    "NumPy is short for Numerical python. It is THE goto library in scientific computing and most of the library is written in FORTRAN and C/C++, thus is is very fast. You can pretty much throw away MATLAB if you learn how to use NumPy."
   ]
  },
  {
   "cell_type": "code",
   "execution_count": null,
   "id": "46c3b929",
   "metadata": {},
   "outputs": [],
   "source": [
    "#python lists are not vectorized like MATLAB arrays.\n",
    "python_list = [1,2,3,4,5]\n",
    "\n",
    "#If I want to multiply all elements in the list by two I have to do this\n",
    "\n",
    "[element*2 for element in python_list]"
   ]
  },
  {
   "cell_type": "code",
   "execution_count": null,
   "id": "512b97a0",
   "metadata": {},
   "outputs": [],
   "source": [
    "#With numpy I can get vectorization\n",
    "vector = np.array([1,2,3,4,5])\n",
    "\n",
    "vector*2"
   ]
  },
  {
   "cell_type": "code",
   "execution_count": null,
   "id": "a0b49be0",
   "metadata": {},
   "outputs": [],
   "source": [
    "#Matrix multiplication in python is a doozy.\n",
    "\n",
    "A = np.array([[1,2,3], [4,5,6], [1,1,1]])\n",
    "B = np.array([[1,1,1], [0,1,0], [1,1,1]])\n",
    "\n",
    "A @ B"
   ]
  },
  {
   "cell_type": "markdown",
   "id": "60a10e1e",
   "metadata": {},
   "source": [
    "## Data Analysis\n",
    "\n",
    "Pandas for tabular data - https://pandas.pydata.org\n",
    "\n",
    "Matplotlib for plotting/graphing - https://matplotlib.org"
   ]
  },
  {
   "cell_type": "code",
   "execution_count": null,
   "id": "d7eb14b5",
   "metadata": {},
   "outputs": [],
   "source": [
    "# Lets use the Yahoo Finance API\n",
    "import yfinance as yf\n",
    "\n",
    "# Some other libraries to help me a bit.\n",
    "import pandas as pd\n",
    "import datetime\n",
    "from matplotlib import pyplot as plt"
   ]
  },
  {
   "cell_type": "code",
   "execution_count": null,
   "id": "76719d18",
   "metadata": {
    "scrolled": true
   },
   "outputs": [],
   "source": [
    "start = datetime.datetime.now() - datetime.timedelta(days=365)\n",
    "end = datetime.datetime.now()\n",
    "\n",
    "# Lets get all microsoft stock market data\n",
    "tickerSymbol = 'MSFT'\n",
    "tickerData = yf.Ticker(tickerSymbol)\n",
    "\n",
    "df = tickerData.history(period = '1d', start = start, end = end)\n",
    "df"
   ]
  },
  {
   "cell_type": "code",
   "execution_count": null,
   "id": "6ec9e46b",
   "metadata": {},
   "outputs": [],
   "source": [
    "plt.figure(figsize=(15,5))\n",
    "plt.plot(df[\"Close\"],label=\"Closing price, MSFT\")\n",
    "plt.grid()\n",
    "plt.legend(loc='upper left',fontsize=\"x-large\")"
   ]
  },
  {
   "cell_type": "markdown",
   "id": "a3ceb88d",
   "metadata": {},
   "source": [
    "## Machine Learning + AI\n",
    "\n",
    "Scikit-Learn for Machine learning - https://scikit-learn.org/stable/index.html"
   ]
  },
  {
   "cell_type": "code",
   "execution_count": null,
   "id": "3b3dffa2",
   "metadata": {},
   "outputs": [],
   "source": [
    "from sklearn.datasets import fetch_olivetti_faces\n",
    "from sklearn.utils.validation import check_random_state\n",
    "from sklearn.ensemble import ExtraTreesRegressor\n",
    "from sklearn.neighbors import KNeighborsRegressor\n",
    "from sklearn.linear_model import LinearRegression\n",
    "from sklearn.linear_model import RidgeCV"
   ]
  },
  {
   "cell_type": "code",
   "execution_count": null,
   "id": "f62b65fe",
   "metadata": {},
   "outputs": [],
   "source": [
    "# Load the faces datasets\n",
    "data, targets = fetch_olivetti_faces(return_X_y=True)\n",
    "\n",
    "train = data[targets < 30]\n",
    "test = data[targets >= 30]  # Test on independent people\n",
    "\n",
    "# Test on a subset of people\n",
    "n_faces = 5\n",
    "rng = check_random_state(4)\n",
    "face_ids = rng.randint(test.shape[0], size=(n_faces,))\n",
    "test = test[face_ids, :]\n",
    "\n",
    "n_pixels = data.shape[1]\n",
    "# Upper half of the faces\n",
    "X_train = train[:, : (n_pixels + 1) // 2]\n",
    "# Lower half of the faces\n",
    "y_train = train[:, n_pixels // 2 :]\n",
    "X_test = test[:, : (n_pixels + 1) // 2]\n",
    "y_test = test[:, n_pixels // 2 :]\n",
    "\n",
    "# Fit estimators\n",
    "ESTIMATORS = {\n",
    "    \"Extra trees\": ExtraTreesRegressor(\n",
    "        n_estimators=10, max_features=32, random_state=0\n",
    "    ),\n",
    "    \"K-nn\": KNeighborsRegressor(),\n",
    "    \"Linear regression\": LinearRegression(),\n",
    "    \"Ridge\": RidgeCV(),\n",
    "}\n",
    "\n",
    "y_test_predict = dict()\n",
    "for name, estimator in ESTIMATORS.items():\n",
    "    estimator.fit(X_train, y_train)\n",
    "    y_test_predict[name] = estimator.predict(X_test)\n",
    "\n",
    "# Plot the completed faces\n",
    "image_shape = (64, 64)\n",
    "\n",
    "n_cols = 1 + len(ESTIMATORS)\n",
    "plt.figure(figsize=(2.0 * n_cols, 2.26 * n_faces))\n",
    "plt.suptitle(\"Face completion with multi-output estimators\", size=16)\n",
    "\n",
    "for i in range(n_faces):\n",
    "    true_face = np.hstack((X_test[i], y_test[i]))\n",
    "\n",
    "    if i:\n",
    "        sub = plt.subplot(n_faces, n_cols, i * n_cols + 1)\n",
    "    else:\n",
    "        sub = plt.subplot(n_faces, n_cols, i * n_cols + 1, title=\"true faces\")\n",
    "\n",
    "    sub.axis(\"off\")\n",
    "    sub.imshow(\n",
    "        true_face.reshape(image_shape), cmap=plt.cm.gray, interpolation=\"nearest\"\n",
    "    )\n",
    "\n",
    "    for j, est in enumerate(sorted(ESTIMATORS)):\n",
    "        completed_face = np.hstack((X_test[i], y_test_predict[est][i]))\n",
    "\n",
    "        if i:\n",
    "            sub = plt.subplot(n_faces, n_cols, i * n_cols + 2 + j)\n",
    "\n",
    "        else:\n",
    "            sub = plt.subplot(n_faces, n_cols, i * n_cols + 2 + j, title=est)\n",
    "\n",
    "        sub.axis(\"off\")\n",
    "        sub.imshow(\n",
    "            completed_face.reshape(image_shape),\n",
    "            cmap=plt.cm.gray,\n",
    "            interpolation=\"nearest\",\n",
    "        )\n",
    "\n",
    "plt.show()"
   ]
  },
  {
   "cell_type": "markdown",
   "id": "cf7e963a",
   "metadata": {},
   "source": [
    "_______________________________________________________________________________"
   ]
  }
 ],
 "metadata": {
  "kernelspec": {
   "display_name": "Python 3.10.7 64-bit",
   "language": "python",
   "name": "python3"
  },
  "language_info": {
   "codemirror_mode": {
    "name": "ipython",
    "version": 3
   },
   "file_extension": ".py",
   "mimetype": "text/x-python",
   "name": "python",
   "nbconvert_exporter": "python",
   "pygments_lexer": "ipython3",
   "version": "3.10.7"
  },
  "vscode": {
   "interpreter": {
    "hash": "0270634b75509e11c53563a8c261d7b775a2ee7acb8ebb3202464a9666b06230"
   }
  }
 },
 "nbformat": 4,
 "nbformat_minor": 5
}
