{
 "cells": [
  {
   "attachments": {},
   "cell_type": "markdown",
   "id": "eb77ac0a",
   "metadata": {},
   "source": [
    "<H1 align=\"center\">\n",
    "    Python For Engineers - Tutorial 2\n",
    "</H1>\n",
    "___________________________________\n",
    "\n",
    "<H1 align=\"center\">\n",
    "Intermediate Python\n",
    "</H1>\n",
    "\n",
    "## By: Fardin Ahsan\n",
    "## Edited by: Saifeldin Hassan\n",
    "\n",
    "This tutorial covers intermediate topics in python, A thorough understanding of the topics covered in the previous tutorial wil help.\n",
    "\n",
    "Note: This tutorial is not even the tip of the iceberg. For a real comprehensive tutorial visit the official python tutorial.\n",
    "https://docs.python.org/3/tutorial/index.html\n",
    "\n",
    "______________________________________\n"
   ]
  },
  {
   "cell_type": "markdown",
   "id": "ef8055d4",
   "metadata": {},
   "source": [
    "## Writing compact code."
   ]
  },
  {
   "cell_type": "markdown",
   "id": "2a46f48a",
   "metadata": {},
   "source": [
    "There are features in python that allow code to be written more compactly, The two main expressions are called comprehension statements and ternary operators. They make your code cleaner and more pythonic. "
   ]
  },
  {
   "cell_type": "markdown",
   "id": "c410e126",
   "metadata": {},
   "source": [
    "### Comprehension statements"
   ]
  },
  {
   "cell_type": "markdown",
   "id": "4474c5cd",
   "metadata": {},
   "source": [
    "Comprehension statements are one line loops. They can be free or within collections.\n",
    "\n",
    "They are similarly structured to math mathematical sets.\n",
    "\n",
    "For example the set ;\n",
    "*{ x | ∀  x ∈ [1,11) }*\n",
    "\n",
    "Can be written as `[x for x in range(1,11)]`"
   ]
  },
  {
   "cell_type": "code",
   "execution_count": null,
   "id": "84d0c7d6",
   "metadata": {},
   "outputs": [],
   "source": [
    "'''\n",
    "Suppose I try to create a list containing the numbers 1-10,\n",
    "This is how you would do it traditionally.\n",
    "\n",
    "'''\n",
    "one_ten_list = []\n",
    "for x in range(1,11):\n",
    "    one_ten_list.append(x)\n",
    "    \n",
    "one_ten_list"
   ]
  },
  {
   "cell_type": "code",
   "execution_count": null,
   "id": "4f888dd9",
   "metadata": {},
   "outputs": [],
   "source": [
    "# The same thing can be done in one line with a comprehension statement\n",
    "\n",
    "one_ten_list_comp = [x for x in range(1,11)]\n",
    "one_ten_list_comp"
   ]
  },
  {
   "cell_type": "code",
   "execution_count": null,
   "id": "79f1ffb5",
   "metadata": {},
   "outputs": [],
   "source": [
    "# Comprehension statements work with other iterables as well.\n",
    "\n",
    "set_comp = {x for x in range(1,11)}\n",
    "dict_comp = {str(x):x for x in range(1,11)} # This dictionary has strings as keys and ints as values\n",
    "\n",
    "print(f'Set comprehension = {set_comp}.')\n",
    "print(f'Dict comprehension = {dict_comp}.')"
   ]
  },
  {
   "cell_type": "code",
   "execution_count": null,
   "id": "afd6b3f9",
   "metadata": {},
   "outputs": [],
   "source": [
    "# Comprehension statements work with conditionals as well. Syntax is to place it after the for loop.\n",
    "evens = [x for x in range(1,11) if x % 2 == 0]\n",
    "\n",
    "evens"
   ]
  },
  {
   "cell_type": "code",
   "execution_count": null,
   "id": "c6ce29f9",
   "metadata": {},
   "outputs": [],
   "source": [
    "# Comprehension statements can work in functions too, these are called generator operators.\n",
    "# Suppose I want to sum up for even numbers from 1-10.\n",
    "\n",
    "sum(num for num in range(1,11) if num % 2 == 0)"
   ]
  },
  {
   "cell_type": "markdown",
   "id": "3af0e4b1",
   "metadata": {},
   "source": [
    "### Ternary operators"
   ]
  },
  {
   "cell_type": "markdown",
   "id": "d7906e72",
   "metadata": {},
   "source": [
    "Ternary operators are variables with conditionals on them.\n",
    "\n",
    "Syntax is;\n",
    "\n",
    "`variable = something if conditional else something_else`"
   ]
  },
  {
   "cell_type": "code",
   "execution_count": null,
   "id": "6db085f1",
   "metadata": {},
   "outputs": [],
   "source": [
    "'''\n",
    "Lets write a program to turn a string upper case or lower case depending on a boolean variable.\n",
    "\n",
    "Notice how this is much less lines of code than using a conditional block.\n",
    "\n",
    "'''\n",
    "upper = True\n",
    "string = 'This is a sentence.'\n",
    "\n",
    "case_ternary = string.upper() if upper else string.lower()\n",
    "\n",
    "case_ternary"
   ]
  },
  {
   "cell_type": "markdown",
   "id": "22bf52b7",
   "metadata": {},
   "source": [
    "## Control flow inside of loops (more detailed)"
   ]
  },
  {
   "cell_type": "code",
   "execution_count": null,
   "id": "e42ce1e8",
   "metadata": {},
   "outputs": [],
   "source": [
    "#The break statement exits the loop.\n",
    "for x in range(7):\n",
    "    if x == 5:\n",
    "        break\n",
    "    print(x)"
   ]
  },
  {
   "cell_type": "code",
   "execution_count": null,
   "id": "15c1469a",
   "metadata": {},
   "outputs": [],
   "source": [
    "#The pass statement does nothing\n",
    "# Comes in handy when you have other statements in the code.\n",
    "for x in range(7):\n",
    "    if x == 5:\n",
    "        pass\n",
    "    print(x)"
   ]
  },
  {
   "cell_type": "code",
   "execution_count": null,
   "id": "0e68eb6c",
   "metadata": {},
   "outputs": [],
   "source": [
    "#The continue statement skips that iteration and does not execute the remaining code.\n",
    "for x in range(7):\n",
    "    if x == 5:\n",
    "        continue\n",
    "    print(x)"
   ]
  },
  {
   "cell_type": "markdown",
   "id": "f770b1b0",
   "metadata": {},
   "source": [
    "<H1>\n",
    "____________________________________\n",
    "</H1>"
   ]
  },
  {
   "cell_type": "markdown",
   "id": "69a2c052",
   "metadata": {},
   "source": [
    "## Exception handling with try/except"
   ]
  },
  {
   "cell_type": "markdown",
   "id": "9c06f4e9",
   "metadata": {},
   "source": [
    "Python will throw errors when your code breaks some sort of fundamental syntax or semantic (recursion without exit clause for example), but to recover from that error there are ways.\n",
    "\n",
    "However error handling is of much philosophical debate. There are two schools of thought. \n",
    "\n",
    "The first school of thoughts mantra is \"Ask for forgiveness not permission\", Who believe you should execute code and handle those errors.\n",
    "\n",
    "The other school believes in \"Look before you leap\", they say errors shouldn't occur and all input and data has to be handled with such that there can be no errors to handle in the first place. \n",
    "\n",
    "After seeing both constructs you can judge for yourself."
   ]
  },
  {
   "cell_type": "markdown",
   "id": "4739e524",
   "metadata": {},
   "source": [
    "### Look before you leap"
   ]
  },
  {
   "cell_type": "code",
   "execution_count": null,
   "id": "2502caad",
   "metadata": {},
   "outputs": [],
   "source": [
    "def sqrt_lbyl(number):\n",
    "    '''\n",
    "    Assume I am dealing with user input.\n",
    "    And I want to find the square root of a number.\n",
    "    But sometimes their input is the wrong type.\n",
    "    LBYL\n",
    "    \n",
    "    '''\n",
    "    if type(number) not in (int,float,complex):\n",
    "        return int(number)**0.5\n",
    "    return number**0.5"
   ]
  },
  {
   "cell_type": "code",
   "execution_count": null,
   "id": "42dc8ae6",
   "metadata": {},
   "outputs": [],
   "source": [
    "sqrt_lbyl(25)"
   ]
  },
  {
   "cell_type": "code",
   "execution_count": null,
   "id": "52ee3a34",
   "metadata": {},
   "outputs": [],
   "source": [
    "sqrt_lbyl('25')"
   ]
  },
  {
   "cell_type": "markdown",
   "id": "ca036dfd",
   "metadata": {},
   "source": [
    "## Easier to ask for forgiveness than permission"
   ]
  },
  {
   "cell_type": "markdown",
   "id": "fa26b081",
   "metadata": {},
   "source": [
    "Way too complicated to go over in depth.\n",
    "\n",
    "https://realpython.com/python-exceptions/"
   ]
  },
  {
   "cell_type": "code",
   "execution_count": null,
   "id": "4adde9de",
   "metadata": {},
   "outputs": [],
   "source": [
    "def sqrt_eafp(number):\n",
    "    '''\n",
    "    Assume I am dealing with user input.\n",
    "    And I want to find the square root of a number.\n",
    "    But sometimes their input is the wrong type.\n",
    "    EAFP\n",
    "    \n",
    "    '''\n",
    "    try:\n",
    "        return number**0.5\n",
    "    except TypeError:\n",
    "        return int(number)**0.5"
   ]
  },
  {
   "cell_type": "code",
   "execution_count": null,
   "id": "b762917f",
   "metadata": {},
   "outputs": [],
   "source": [
    "sqrt_eafp(25)"
   ]
  },
  {
   "cell_type": "code",
   "execution_count": null,
   "id": "d9c6e863",
   "metadata": {},
   "outputs": [],
   "source": [
    "sqrt_eafp('25')"
   ]
  },
  {
   "cell_type": "markdown",
   "id": "bb5da746",
   "metadata": {},
   "source": [
    "Depending on your usecase the one of the philosophies might be faster than the other. For example suppose the user inputs a number 90% of the time then EAFP is better because you don't check for every input, you handle the error only when it comes up. But if they make the mistake most of the time, then fixing then checking for the mistake makes sense. "
   ]
  },
  {
   "cell_type": "markdown",
   "id": "8b637bd4",
   "metadata": {},
   "source": [
    "<H1>\n",
    "____________________________________________________\n",
    "\n",
    "</H1>"
   ]
  },
  {
   "cell_type": "markdown",
   "id": "a3ade8c0",
   "metadata": {},
   "source": [
    "## Reading and writing files."
   ]
  },
  {
   "cell_type": "markdown",
   "id": "e4f55caf",
   "metadata": {},
   "source": [
    "### Reading a file"
   ]
  },
  {
   "cell_type": "markdown",
   "id": "c07e2316",
   "metadata": {},
   "source": [
    "For a more detailed explanation: https://realpython.com/read-write-files-python/"
   ]
  },
  {
   "cell_type": "markdown",
   "id": "247a712f",
   "metadata": {},
   "source": [
    "Reading and writing files is fundamental to programming, given that you can't do much if all the program interacts with is itself. \n",
    "\n"
   ]
  },
  {
   "cell_type": "code",
   "execution_count": null,
   "id": "27f044b0",
   "metadata": {},
   "outputs": [],
   "source": [
    "# Using the with context manager you can read a file.\n",
    "# The context manager does all the work for you. \n",
    "with open('dog_breeds.txt', 'r') as reader:\n",
    "    dogs_list = reader.readlines()\n",
    "\n",
    "dogs_list"
   ]
  },
  {
   "cell_type": "markdown",
   "id": "618eefde",
   "metadata": {},
   "source": [
    "As we can see every string in the list has a new line character (\\n) because thats how it is stored in the text file. \n",
    "\n",
    "Removing it is trivial but you would just want to watch out for that."
   ]
  },
  {
   "cell_type": "markdown",
   "id": "6cfe8d1a",
   "metadata": {},
   "source": [
    "### Writing to a file"
   ]
  },
  {
   "cell_type": "code",
   "execution_count": null,
   "id": "9138b0f3",
   "metadata": {},
   "outputs": [],
   "source": [
    "# Lets write a new file with dog names but all capital.\n",
    "with open('dog_breeds_capitalized.txt', 'w') as writer:\n",
    "    for line in dogs_list:\n",
    "        writer.write(line.upper())"
   ]
  },
  {
   "cell_type": "markdown",
   "id": "ff2b7b42",
   "metadata": {},
   "source": [
    "### Lets see if that worked."
   ]
  },
  {
   "cell_type": "code",
   "execution_count": null,
   "id": "6a64ad2d",
   "metadata": {},
   "outputs": [],
   "source": [
    "with open('dog_breeds_capitalized.txt', 'r') as reader_cap:\n",
    "    dogs_list_cap = reader_cap.readlines()\n",
    "\n",
    "dogs_list_cap"
   ]
  },
  {
   "cell_type": "markdown",
   "id": "5d539b9b",
   "metadata": {},
   "source": [
    "<H1>\n",
    "____________________________________________________\n",
    "\n",
    "</H1>"
   ]
  },
  {
   "cell_type": "markdown",
   "id": "1e461480",
   "metadata": {},
   "source": [
    "## Managing/Manipulating directories with the os library."
   ]
  },
  {
   "cell_type": "code",
   "execution_count": null,
   "id": "47d3075d",
   "metadata": {},
   "outputs": [],
   "source": [
    "import os"
   ]
  },
  {
   "cell_type": "markdown",
   "id": "99d9c101",
   "metadata": {},
   "source": [
    "When you are working with a big project you wouldn't want to have all your files in the same directory, that would make it a nightmare to work with, so you would split up the directory into subdirectories to keep your project structure clean.\n",
    "\n",
    "You can do this using the OS module.\n",
    "\n",
    "You can do a lot of other things, that are often DANGEROUS with the os module, so you need to be careful with that."
   ]
  },
  {
   "cell_type": "markdown",
   "id": "22aff0b8",
   "metadata": {},
   "source": [
    "### Lets view the current working directory"
   ]
  },
  {
   "cell_type": "code",
   "execution_count": null,
   "id": "b401a4c2",
   "metadata": {},
   "outputs": [],
   "source": [
    "os.getcwd()"
   ]
  },
  {
   "cell_type": "code",
   "execution_count": null,
   "id": "e2821f33",
   "metadata": {},
   "outputs": [],
   "source": [
    "os.listdir()"
   ]
  },
  {
   "cell_type": "markdown",
   "id": "a5351b3c",
   "metadata": {},
   "source": [
    "### Lets access one of the subfolders"
   ]
  },
  {
   "cell_type": "code",
   "execution_count": null,
   "id": "5cdefc5f",
   "metadata": {},
   "outputs": [],
   "source": [
    "# This is called the Absolute path.\n",
    "path = os.getcwd() + '\\\\rename_examples'\n",
    "path"
   ]
  },
  {
   "cell_type": "code",
   "execution_count": null,
   "id": "30957e1f",
   "metadata": {},
   "outputs": [],
   "source": [
    "os.listdir(path)"
   ]
  },
  {
   "cell_type": "markdown",
   "id": "d1775910",
   "metadata": {},
   "source": [
    "<H1>\n",
    "____________________________________________________\n",
    "\n",
    "</H1>"
   ]
  },
  {
   "cell_type": "markdown",
   "id": "ba37614e",
   "metadata": {},
   "source": [
    "## Generators"
   ]
  },
  {
   "cell_type": "markdown",
   "id": "3e434f9a",
   "metadata": {},
   "source": [
    "Some recursive functions are very memory intensive, generator statements are functions where the previous recursed values are held in memory. This makes the code run a lot faster especially when you are working with large files such as videos.\n",
    "\n",
    "Almost all functions in computer vision and image processing are generators. As obviously, images have a large memory footprint.\n",
    "\n",
    "This can speed up code a lot, but comes with its pros and cons and should be used judiciously. You are giving up memory for computation speed.\n",
    "\n",
    "Like all things \"There ain't no such thing as a free lunch\" applies to software engineering too."
   ]
  },
  {
   "cell_type": "code",
   "execution_count": null,
   "id": "5416c986",
   "metadata": {},
   "outputs": [],
   "source": [
    "# Fibonacci recursive style\n",
    "def fib_func(n):\n",
    "    if n == 0 or n == 1:\n",
    "        return n\n",
    "    else:\n",
    "        return fib_func(n-1) + fib_func(n-2)\n",
    "\n",
    "for x in range(10):\n",
    "    print(fib_func(x))"
   ]
  },
  {
   "cell_type": "markdown",
   "id": "c29a7969",
   "metadata": {},
   "source": [
    "### Lets see how long this takes."
   ]
  },
  {
   "cell_type": "code",
   "execution_count": null,
   "id": "39f969fb",
   "metadata": {},
   "outputs": [],
   "source": [
    "%%timeit\n",
    "fib_func(x)"
   ]
  },
  {
   "cell_type": "markdown",
   "id": "8faf4cce",
   "metadata": {},
   "source": [
    "### Same thing with a generator."
   ]
  },
  {
   "cell_type": "code",
   "execution_count": null,
   "id": "e0cf7876",
   "metadata": {},
   "outputs": [],
   "source": [
    "def fib_gen(n):\n",
    "    if n == 0 or n == 1:\n",
    "        yield n\n",
    "    else:\n",
    "        yield fib_gen(n-1) + fib_gen(n-2)"
   ]
  },
  {
   "cell_type": "code",
   "execution_count": null,
   "id": "a8923f13",
   "metadata": {},
   "outputs": [],
   "source": [
    "%%timeit\n",
    "fib_gen(x)"
   ]
  },
  {
   "cell_type": "markdown",
   "id": "ae82178b",
   "metadata": {},
   "source": [
    "#### Much faster! Because the generator does not have to run in O(n!) time like the recursive function does, the previously recursed values are stored in memory. Note how 1,000,000 loops were ran instead of 100 and its still much faster.\n",
    "\n",
    "Also note: The %%timeit command is a 'magic' command that is specific to jupyter notebook shells, for .py files you will have to make your own functions (hint: decorators). "
   ]
  },
  {
   "cell_type": "markdown",
   "id": "6b035fff",
   "metadata": {},
   "source": [
    "<H1>\n",
    "____________________________________________________\n",
    "\n",
    "</H1>"
   ]
  },
  {
   "cell_type": "markdown",
   "id": "befe71bd",
   "metadata": {},
   "source": [
    "## Functional programming"
   ]
  },
  {
   "cell_type": "markdown",
   "id": "fd3c51c5",
   "metadata": {},
   "source": [
    "Functional programming is a programming paradigm that relies on functions to carry out most of computation. Mostly used in scientific and mathmatical computing as opposed to obeject oriented programming which is used in software development.\n",
    "\n",
    "Much like functions in math, you can chain and compose python functions too, and they form the backbone of functional programming. \n",
    "\n",
    "Functional programming is far to broad a topic to cover in a tutorial so refer to the python documentation;\n",
    "\n",
    "https://docs.python.org/3/howto/functional.html"
   ]
  },
  {
   "cell_type": "markdown",
   "id": "300ceb91",
   "metadata": {},
   "source": [
    "### Lambda expressions/ annonymous functions"
   ]
  },
  {
   "cell_type": "code",
   "execution_count": null,
   "id": "1fa70803",
   "metadata": {},
   "outputs": [],
   "source": [
    "# Defined function\n",
    "def add(a,b):\n",
    "    return a + b\n",
    "\n",
    "add_anon = lambda a,b: a + b\n",
    "\n",
    "print(add(1,2))\n",
    "print(add_anon(1,2))"
   ]
  },
  {
   "cell_type": "markdown",
   "id": "65ae94d9",
   "metadata": {},
   "source": [
    "On the surface they look like the same thing, which in that way it is, but you can use annonymous functions without having defined it beforehand, which comes in handy a lot."
   ]
  },
  {
   "cell_type": "code",
   "execution_count": null,
   "id": "88ad7001",
   "metadata": {},
   "outputs": [],
   "source": [
    "# Suppose I have this list with 1x2 tuple pairs.\n",
    "cartesian = [('a',3),('b',1),('c',2)]\n",
    "cartesian"
   ]
  },
  {
   "cell_type": "code",
   "execution_count": null,
   "id": "aba7f4f1",
   "metadata": {},
   "outputs": [],
   "source": [
    "# I can sort that list using a lambda expression.\n",
    "sorted(cartesian, key = lambda tup: tup[1])"
   ]
  },
  {
   "cell_type": "markdown",
   "id": "0170a645",
   "metadata": {},
   "source": [
    "### Mapping"
   ]
  },
  {
   "cell_type": "code",
   "execution_count": null,
   "id": "5c0e803e",
   "metadata": {},
   "outputs": [],
   "source": [
    "# Example function that adds 1.\n",
    "def add_one(number):\n",
    "    return number + 1\n",
    "\n",
    "num_list = [add_one(x) for x in (1,2,3)]\n",
    "num_list"
   ]
  },
  {
   "cell_type": "code",
   "execution_count": null,
   "id": "a4639bc3",
   "metadata": {},
   "outputs": [],
   "source": [
    "list(map(add_one,(1,2,3)))"
   ]
  },
  {
   "cell_type": "markdown",
   "id": "bbf5dd1a",
   "metadata": {},
   "source": [
    "##### WARNING: Mapping, filtering and reducing are common functional programming functions but according to the creators of python they are unpythonic and you should use list comprehensions instead."
   ]
  },
  {
   "cell_type": "markdown",
   "id": "61cb5182",
   "metadata": {},
   "source": [
    "### Function composition"
   ]
  },
  {
   "cell_type": "markdown",
   "id": "e8a276ca",
   "metadata": {},
   "source": [
    "Similar to function composition in math.\n",
    "\n",
    "`f(g(x))` is a composed function that can be done in python too."
   ]
  },
  {
   "cell_type": "code",
   "execution_count": null,
   "id": "1652c462",
   "metadata": {},
   "outputs": [],
   "source": [
    "# Function to add 2\n",
    "def f_x(x):\n",
    "    return x + 2\n",
    "  \n",
    "# Function to multiply 2\n",
    "def g_x(x):\n",
    "    return x * 2\n",
    "\n",
    "# Function composer\n",
    "def c(f, g):\n",
    "    return lambda x : f(g(x))\n",
    "  \n",
    "# Compose the functions\n",
    "composed = c(f_x, g_x)\n",
    "\n",
    "composed(5)"
   ]
  },
  {
   "cell_type": "markdown",
   "id": "baa5e871",
   "metadata": {},
   "source": [
    "The examples above are very elementary. Refer to the official python functional programming tutorial for more comprehensive details."
   ]
  },
  {
   "cell_type": "markdown",
   "id": "42e35c8a",
   "metadata": {},
   "source": [
    "<H1>\n",
    "____________________________________________________\n",
    "\n",
    "</H1>"
   ]
  },
  {
   "cell_type": "markdown",
   "id": "889bf734",
   "metadata": {},
   "source": [
    "## Object Oriented programming"
   ]
  },
  {
   "cell_type": "markdown",
   "id": "a5c0ee25",
   "metadata": {},
   "source": [
    "Object oriented programming (OOP) is another programming paradigm that stores data/variables (attributes) and functions (methods) in one syntax object. This means a programs different parts can be comparmentalized into different classes and they can run independently of one another.\n",
    "\n",
    "Helps a lot with keeping your codebase clean and legible.\n",
    "\n",
    "OOP"
   ]
  },
  {
   "cell_type": "code",
   "execution_count": null,
   "id": "9f80a72c",
   "metadata": {},
   "outputs": [],
   "source": [
    "#This is a basic class declaration. This is called the parent class.\n",
    "class Chef:\n",
    "    \n",
    "    #Initializing attributes:\n",
    "    def __init__(self,name,country):\n",
    "        self.name = name\n",
    "        self.country = country\n",
    "        \n",
    "    def info(self):\n",
    "        return f\"Chef {self.name} is from {self.country}.\"\n",
    "        \n",
    "    def make_pizza(self):\n",
    "        return f\"I can make pizza.\"\n",
    "    \n",
    "# This is an object.\n",
    "chef_a = Chef('Unknown Nobody','Who cares?')\n",
    "\n",
    "chef_a.info()"
   ]
  },
  {
   "cell_type": "code",
   "execution_count": null,
   "id": "ba4f3eaf",
   "metadata": {},
   "outputs": [],
   "source": [
    "# This is called a child class and it will 'inherit' the functionality of the previous class\n",
    "\n",
    "class ProChef(Chef):\n",
    "    \n",
    "    def make_burger(self):\n",
    "        return f\"I am {self.name}, I'm from {self.country} I can make burgers too!\"\n",
    "    \n",
    "chef_b = ProChef('Gordon Ramsay', 'Scotland')\n",
    "\n",
    "print(chef_b.make_pizza())\n",
    "print(chef_b.make_burger())"
   ]
  },
  {
   "cell_type": "code",
   "execution_count": null,
   "id": "044f8037",
   "metadata": {},
   "outputs": [],
   "source": [
    "# You can view attributes of a class using the dir function.\n",
    "# The attributes with the underscores are default python attributes. \n",
    "dir(Chef)"
   ]
  },
  {
   "cell_type": "markdown",
   "id": "cb441649",
   "metadata": {},
   "source": [
    "The topics in OOP are too advanced to cover in a tutorial, it will go too in depth into software engineering , so its best you know how to just use classes for now."
   ]
  },
  {
   "cell_type": "code",
   "execution_count": null,
   "id": "5c9f1b02",
   "metadata": {},
   "outputs": [],
   "source": [
    "#Everything in python is an object\n",
    "\n",
    "list_obj = [1,2,3,4,5]\n",
    "\n",
    "list_obj.append(6)\n",
    "\n",
    "list_obj"
   ]
  },
  {
   "cell_type": "markdown",
   "id": "4ef6ff47",
   "metadata": {},
   "source": [
    "### Classes without objectification."
   ]
  },
  {
   "cell_type": "markdown",
   "id": "2e6db286",
   "metadata": {},
   "source": [
    "Classes don't have to be passed into objects you can modify a class itself and use the parent class itself in code."
   ]
  },
  {
   "cell_type": "code",
   "execution_count": null,
   "id": "3ade8b3c",
   "metadata": {},
   "outputs": [],
   "source": [
    "class Accumulator:\n",
    "    \n",
    "    # This is a class variable.\n",
    "    total = 0\n",
    "    \n",
    "    @classmethod # This implies that we will modify the class and not its objects\n",
    "    def add_total(cls,num):\n",
    "        cls.total += num"
   ]
  },
  {
   "cell_type": "code",
   "execution_count": null,
   "id": "68b10280",
   "metadata": {},
   "outputs": [],
   "source": [
    "Accumulator.total"
   ]
  },
  {
   "cell_type": "code",
   "execution_count": null,
   "id": "6052126e",
   "metadata": {},
   "outputs": [],
   "source": [
    "Accumulator.add_total(2)"
   ]
  },
  {
   "cell_type": "code",
   "execution_count": null,
   "id": "9193c35e",
   "metadata": {},
   "outputs": [],
   "source": [
    "Accumulator.total"
   ]
  },
  {
   "cell_type": "code",
   "execution_count": null,
   "id": "b2272e32",
   "metadata": {},
   "outputs": [],
   "source": [
    "Accumulator.add_total(3)"
   ]
  },
  {
   "cell_type": "code",
   "execution_count": null,
   "id": "d0eee6ab",
   "metadata": {},
   "outputs": [],
   "source": [
    "Accumulator.total"
   ]
  },
  {
   "cell_type": "markdown",
   "id": "f7d89a69",
   "metadata": {},
   "source": [
    "<H1>\n",
    "____________________________________________________\n",
    "\n",
    "</H1>"
   ]
  },
  {
   "cell_type": "markdown",
   "id": "cf59916f",
   "metadata": {},
   "source": [
    "## More on functions"
   ]
  },
  {
   "cell_type": "markdown",
   "id": "cbfe5455",
   "metadata": {},
   "source": [
    "Theres more functionality to functions that make life easier working with them, below are a few."
   ]
  },
  {
   "cell_type": "markdown",
   "id": "45556599",
   "metadata": {},
   "source": [
    "### Doc strings."
   ]
  },
  {
   "cell_type": "code",
   "execution_count": null,
   "id": "5435de7f",
   "metadata": {},
   "outputs": [],
   "source": [
    "def doc_string_example():\n",
    "    '''\n",
    "    A multi line comment inside of a function is called its doc string. It will display\n",
    "    If you type in help(func_name) in the terminal.\n",
    "    \n",
    "    Thus its good practice to use multi line comments to document functions\n",
    "    and not single line comments outside them, this comes in very handy when\n",
    "    working on a large project with thousands of lines of code and many different \n",
    "    python files and you see a function that you don't know what it does.\n",
    "    \n",
    "    '''\n",
    "    pass"
   ]
  },
  {
   "cell_type": "code",
   "execution_count": null,
   "id": "fb08a1b2",
   "metadata": {},
   "outputs": [],
   "source": [
    "help(doc_string_example)"
   ]
  },
  {
   "cell_type": "markdown",
   "id": "c94d4815",
   "metadata": {},
   "source": [
    "### Keyword/default arguments."
   ]
  },
  {
   "cell_type": "code",
   "execution_count": null,
   "id": "62745f8a",
   "metadata": {},
   "outputs": [],
   "source": [
    "# A keyword argument (kwarg) is an argument you can pass via keyword, if you don't it will assign the default value.\n",
    "\n",
    "def add_five_or_somethingelse(your_number,somethingelse = 5):\n",
    "    return your_number + somethingelse"
   ]
  },
  {
   "cell_type": "code",
   "execution_count": null,
   "id": "05f15967",
   "metadata": {},
   "outputs": [],
   "source": [
    "# I used the keyword\n",
    "add_five_or_somethingelse(5,somethingelse = 0)"
   ]
  },
  {
   "cell_type": "code",
   "execution_count": null,
   "id": "ad3198a2",
   "metadata": {},
   "outputs": [],
   "source": [
    "# I didn't use the kwarg so it resorts to the default argument\n",
    "add_five_or_somethingelse(5)"
   ]
  },
  {
   "cell_type": "markdown",
   "id": "bc512a4e",
   "metadata": {},
   "source": [
    "### Unkown number of arguments."
   ]
  },
  {
   "cell_type": "markdown",
   "id": "830e89f0",
   "metadata": {},
   "source": [
    "Sometimes you won't know how many arguments the function will take, this is rare to come across in basic applications but when working with large software with 10,000's of lines of code, things have to be written more discretely so that the functions don't bug out with erroneous data."
   ]
  },
  {
   "cell_type": "code",
   "execution_count": null,
   "id": "fb521e83",
   "metadata": {},
   "outputs": [],
   "source": [
    "# Throwback to tuple unpacking, This was one of the usecases I was talking about!\n",
    "def total(*args):\n",
    "    tot = 0\n",
    "    for x in args:\n",
    "        tot += x\n",
    "    return tot\n",
    "\n",
    "total(10,20,30,40)"
   ]
  },
  {
   "cell_type": "code",
   "execution_count": null,
   "id": "74b2d008",
   "metadata": {},
   "outputs": [],
   "source": [
    "# Unkown number of keyword arguments\n",
    "def capital(**kwargs):\n",
    "    for key,value in kwargs.items():\n",
    "        print(f'{key}\\'s capital is {value}.' )\n",
    "        \n",
    "capital(India = 'Delhi', Canada = 'Ottawa', Turkey = 'Ankara')"
   ]
  },
  {
   "cell_type": "markdown",
   "id": "f48e293e",
   "metadata": {},
   "source": [
    "### Decorators"
   ]
  },
  {
   "cell_type": "markdown",
   "id": "9e2436f8",
   "metadata": {},
   "source": [
    "Decorators are similar to function composing but instead of composing the functions that are known, it can compose any function to any other function.\n",
    "\n",
    "But composing isn't the right way to think about it, think of it more as wrapping a function around another function.\n",
    "\n",
    "It is a step above function composition."
   ]
  },
  {
   "cell_type": "code",
   "execution_count": null,
   "id": "d72c2607",
   "metadata": {},
   "outputs": [],
   "source": [
    "# This is the decorator function\n",
    "def say_hey(func):\n",
    "     \n",
    "    def inner(*args, **kwargs):\n",
    "        print('Hey')\n",
    "        func(*args,**kwargs)\n",
    "        \n",
    "    return inner\n",
    " \n",
    " \n",
    "@say_hey # This is the decorator call, I am \"decorating\" the say_name function\n",
    "def say_name(name):\n",
    "    print(f'{name}')\n",
    "\n",
    "    \n",
    "say_name('Friend')"
   ]
  }
 ],
 "metadata": {
  "kernelspec": {
   "display_name": "Python 3.10.7 64-bit",
   "language": "python",
   "name": "python3"
  },
  "language_info": {
   "codemirror_mode": {
    "name": "ipython",
    "version": 3
   },
   "file_extension": ".py",
   "mimetype": "text/x-python",
   "name": "python",
   "nbconvert_exporter": "python",
   "pygments_lexer": "ipython3",
   "version": "3.10.7"
  },
  "vscode": {
   "interpreter": {
    "hash": "0270634b75509e11c53563a8c261d7b775a2ee7acb8ebb3202464a9666b06230"
   }
  }
 },
 "nbformat": 4,
 "nbformat_minor": 5
}
